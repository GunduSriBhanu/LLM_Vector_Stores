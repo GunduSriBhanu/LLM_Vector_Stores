{
  "nbformat": 4,
  "nbformat_minor": 0,
  "metadata": {
    "colab": {
      "provenance": [],
      "authorship_tag": "ABX9TyO7z8SGkXw+KQ8G07ncG6lg",
      "include_colab_link": true
    },
    "kernelspec": {
      "name": "python3",
      "display_name": "Python 3"
    },
    "language_info": {
      "name": "python"
    },
    "widgets": {
      "application/vnd.jupyter.widget-state+json": {
        "55380cf1c2064f21a55ba8890a17f757": {
          "model_module": "@jupyter-widgets/controls",
          "model_name": "HBoxModel",
          "model_module_version": "1.5.0",
          "state": {
            "_dom_classes": [],
            "_model_module": "@jupyter-widgets/controls",
            "_model_module_version": "1.5.0",
            "_model_name": "HBoxModel",
            "_view_count": null,
            "_view_module": "@jupyter-widgets/controls",
            "_view_module_version": "1.5.0",
            "_view_name": "HBoxView",
            "box_style": "",
            "children": [
              "IPY_MODEL_9111b3928bc7421b9482026b43bbe187",
              "IPY_MODEL_9f35f19ecd4d4449a1351316b4b58d9f",
              "IPY_MODEL_5b47790d989e40f0b968d2f14dd72a93"
            ],
            "layout": "IPY_MODEL_4b55218eed19461b83281e075e8e573f"
          }
        },
        "9111b3928bc7421b9482026b43bbe187": {
          "model_module": "@jupyter-widgets/controls",
          "model_name": "HTMLModel",
          "model_module_version": "1.5.0",
          "state": {
            "_dom_classes": [],
            "_model_module": "@jupyter-widgets/controls",
            "_model_module_version": "1.5.0",
            "_model_name": "HTMLModel",
            "_view_count": null,
            "_view_module": "@jupyter-widgets/controls",
            "_view_module_version": "1.5.0",
            "_view_name": "HTMLView",
            "description": "",
            "description_tooltip": null,
            "layout": "IPY_MODEL_b4600537cab4429998d32667ffbdfa4f",
            "placeholder": "​",
            "style": "IPY_MODEL_93c6eef625454288ab8ae7bc11110aa7",
            "value": "Parsing nodes: 100%"
          }
        },
        "9f35f19ecd4d4449a1351316b4b58d9f": {
          "model_module": "@jupyter-widgets/controls",
          "model_name": "FloatProgressModel",
          "model_module_version": "1.5.0",
          "state": {
            "_dom_classes": [],
            "_model_module": "@jupyter-widgets/controls",
            "_model_module_version": "1.5.0",
            "_model_name": "FloatProgressModel",
            "_view_count": null,
            "_view_module": "@jupyter-widgets/controls",
            "_view_module_version": "1.5.0",
            "_view_name": "ProgressView",
            "bar_style": "success",
            "description": "",
            "description_tooltip": null,
            "layout": "IPY_MODEL_6674bf16e7a8410d962f181af6d968be",
            "max": 39,
            "min": 0,
            "orientation": "horizontal",
            "style": "IPY_MODEL_398fb5518cd0433ba333de3c956b3dc8",
            "value": 39
          }
        },
        "5b47790d989e40f0b968d2f14dd72a93": {
          "model_module": "@jupyter-widgets/controls",
          "model_name": "HTMLModel",
          "model_module_version": "1.5.0",
          "state": {
            "_dom_classes": [],
            "_model_module": "@jupyter-widgets/controls",
            "_model_module_version": "1.5.0",
            "_model_name": "HTMLModel",
            "_view_count": null,
            "_view_module": "@jupyter-widgets/controls",
            "_view_module_version": "1.5.0",
            "_view_name": "HTMLView",
            "description": "",
            "description_tooltip": null,
            "layout": "IPY_MODEL_88a0d125f5cc41d6bd88897b0aab438e",
            "placeholder": "​",
            "style": "IPY_MODEL_1a568316745d4e15894ad5b55af22ea7",
            "value": " 39/39 [00:00&lt;00:00, 936.92it/s]"
          }
        },
        "4b55218eed19461b83281e075e8e573f": {
          "model_module": "@jupyter-widgets/base",
          "model_name": "LayoutModel",
          "model_module_version": "1.2.0",
          "state": {
            "_model_module": "@jupyter-widgets/base",
            "_model_module_version": "1.2.0",
            "_model_name": "LayoutModel",
            "_view_count": null,
            "_view_module": "@jupyter-widgets/base",
            "_view_module_version": "1.2.0",
            "_view_name": "LayoutView",
            "align_content": null,
            "align_items": null,
            "align_self": null,
            "border": null,
            "bottom": null,
            "display": null,
            "flex": null,
            "flex_flow": null,
            "grid_area": null,
            "grid_auto_columns": null,
            "grid_auto_flow": null,
            "grid_auto_rows": null,
            "grid_column": null,
            "grid_gap": null,
            "grid_row": null,
            "grid_template_areas": null,
            "grid_template_columns": null,
            "grid_template_rows": null,
            "height": null,
            "justify_content": null,
            "justify_items": null,
            "left": null,
            "margin": null,
            "max_height": null,
            "max_width": null,
            "min_height": null,
            "min_width": null,
            "object_fit": null,
            "object_position": null,
            "order": null,
            "overflow": null,
            "overflow_x": null,
            "overflow_y": null,
            "padding": null,
            "right": null,
            "top": null,
            "visibility": null,
            "width": null
          }
        },
        "b4600537cab4429998d32667ffbdfa4f": {
          "model_module": "@jupyter-widgets/base",
          "model_name": "LayoutModel",
          "model_module_version": "1.2.0",
          "state": {
            "_model_module": "@jupyter-widgets/base",
            "_model_module_version": "1.2.0",
            "_model_name": "LayoutModel",
            "_view_count": null,
            "_view_module": "@jupyter-widgets/base",
            "_view_module_version": "1.2.0",
            "_view_name": "LayoutView",
            "align_content": null,
            "align_items": null,
            "align_self": null,
            "border": null,
            "bottom": null,
            "display": null,
            "flex": null,
            "flex_flow": null,
            "grid_area": null,
            "grid_auto_columns": null,
            "grid_auto_flow": null,
            "grid_auto_rows": null,
            "grid_column": null,
            "grid_gap": null,
            "grid_row": null,
            "grid_template_areas": null,
            "grid_template_columns": null,
            "grid_template_rows": null,
            "height": null,
            "justify_content": null,
            "justify_items": null,
            "left": null,
            "margin": null,
            "max_height": null,
            "max_width": null,
            "min_height": null,
            "min_width": null,
            "object_fit": null,
            "object_position": null,
            "order": null,
            "overflow": null,
            "overflow_x": null,
            "overflow_y": null,
            "padding": null,
            "right": null,
            "top": null,
            "visibility": null,
            "width": null
          }
        },
        "93c6eef625454288ab8ae7bc11110aa7": {
          "model_module": "@jupyter-widgets/controls",
          "model_name": "DescriptionStyleModel",
          "model_module_version": "1.5.0",
          "state": {
            "_model_module": "@jupyter-widgets/controls",
            "_model_module_version": "1.5.0",
            "_model_name": "DescriptionStyleModel",
            "_view_count": null,
            "_view_module": "@jupyter-widgets/base",
            "_view_module_version": "1.2.0",
            "_view_name": "StyleView",
            "description_width": ""
          }
        },
        "6674bf16e7a8410d962f181af6d968be": {
          "model_module": "@jupyter-widgets/base",
          "model_name": "LayoutModel",
          "model_module_version": "1.2.0",
          "state": {
            "_model_module": "@jupyter-widgets/base",
            "_model_module_version": "1.2.0",
            "_model_name": "LayoutModel",
            "_view_count": null,
            "_view_module": "@jupyter-widgets/base",
            "_view_module_version": "1.2.0",
            "_view_name": "LayoutView",
            "align_content": null,
            "align_items": null,
            "align_self": null,
            "border": null,
            "bottom": null,
            "display": null,
            "flex": null,
            "flex_flow": null,
            "grid_area": null,
            "grid_auto_columns": null,
            "grid_auto_flow": null,
            "grid_auto_rows": null,
            "grid_column": null,
            "grid_gap": null,
            "grid_row": null,
            "grid_template_areas": null,
            "grid_template_columns": null,
            "grid_template_rows": null,
            "height": null,
            "justify_content": null,
            "justify_items": null,
            "left": null,
            "margin": null,
            "max_height": null,
            "max_width": null,
            "min_height": null,
            "min_width": null,
            "object_fit": null,
            "object_position": null,
            "order": null,
            "overflow": null,
            "overflow_x": null,
            "overflow_y": null,
            "padding": null,
            "right": null,
            "top": null,
            "visibility": null,
            "width": null
          }
        },
        "398fb5518cd0433ba333de3c956b3dc8": {
          "model_module": "@jupyter-widgets/controls",
          "model_name": "ProgressStyleModel",
          "model_module_version": "1.5.0",
          "state": {
            "_model_module": "@jupyter-widgets/controls",
            "_model_module_version": "1.5.0",
            "_model_name": "ProgressStyleModel",
            "_view_count": null,
            "_view_module": "@jupyter-widgets/base",
            "_view_module_version": "1.2.0",
            "_view_name": "StyleView",
            "bar_color": null,
            "description_width": ""
          }
        },
        "88a0d125f5cc41d6bd88897b0aab438e": {
          "model_module": "@jupyter-widgets/base",
          "model_name": "LayoutModel",
          "model_module_version": "1.2.0",
          "state": {
            "_model_module": "@jupyter-widgets/base",
            "_model_module_version": "1.2.0",
            "_model_name": "LayoutModel",
            "_view_count": null,
            "_view_module": "@jupyter-widgets/base",
            "_view_module_version": "1.2.0",
            "_view_name": "LayoutView",
            "align_content": null,
            "align_items": null,
            "align_self": null,
            "border": null,
            "bottom": null,
            "display": null,
            "flex": null,
            "flex_flow": null,
            "grid_area": null,
            "grid_auto_columns": null,
            "grid_auto_flow": null,
            "grid_auto_rows": null,
            "grid_column": null,
            "grid_gap": null,
            "grid_row": null,
            "grid_template_areas": null,
            "grid_template_columns": null,
            "grid_template_rows": null,
            "height": null,
            "justify_content": null,
            "justify_items": null,
            "left": null,
            "margin": null,
            "max_height": null,
            "max_width": null,
            "min_height": null,
            "min_width": null,
            "object_fit": null,
            "object_position": null,
            "order": null,
            "overflow": null,
            "overflow_x": null,
            "overflow_y": null,
            "padding": null,
            "right": null,
            "top": null,
            "visibility": null,
            "width": null
          }
        },
        "1a568316745d4e15894ad5b55af22ea7": {
          "model_module": "@jupyter-widgets/controls",
          "model_name": "DescriptionStyleModel",
          "model_module_version": "1.5.0",
          "state": {
            "_model_module": "@jupyter-widgets/controls",
            "_model_module_version": "1.5.0",
            "_model_name": "DescriptionStyleModel",
            "_view_count": null,
            "_view_module": "@jupyter-widgets/base",
            "_view_module_version": "1.2.0",
            "_view_name": "StyleView",
            "description_width": ""
          }
        },
        "b09e755e260848c2b046e27e0f0a3ab3": {
          "model_module": "@jupyter-widgets/controls",
          "model_name": "HBoxModel",
          "model_module_version": "1.5.0",
          "state": {
            "_dom_classes": [],
            "_model_module": "@jupyter-widgets/controls",
            "_model_module_version": "1.5.0",
            "_model_name": "HBoxModel",
            "_view_count": null,
            "_view_module": "@jupyter-widgets/controls",
            "_view_module_version": "1.5.0",
            "_view_name": "HBoxView",
            "box_style": "",
            "children": [
              "IPY_MODEL_a063a59963f04bb78f678f6fd9c627b5",
              "IPY_MODEL_6564193c96f14ec9bfa07b863c4b4d6b",
              "IPY_MODEL_1306c0a2d3304cfbb334a8b15142bde2"
            ],
            "layout": "IPY_MODEL_5e3c4b61f8944063bb2a5c21dd4a412d"
          }
        },
        "a063a59963f04bb78f678f6fd9c627b5": {
          "model_module": "@jupyter-widgets/controls",
          "model_name": "HTMLModel",
          "model_module_version": "1.5.0",
          "state": {
            "_dom_classes": [],
            "_model_module": "@jupyter-widgets/controls",
            "_model_module_version": "1.5.0",
            "_model_name": "HTMLModel",
            "_view_count": null,
            "_view_module": "@jupyter-widgets/controls",
            "_view_module_version": "1.5.0",
            "_view_name": "HTMLView",
            "description": "",
            "description_tooltip": null,
            "layout": "IPY_MODEL_28e0d8575168475b8e61a36939886c50",
            "placeholder": "​",
            "style": "IPY_MODEL_4f87f733cf8846238a34dafff7df313a",
            "value": "Parsing nodes: 100%"
          }
        },
        "6564193c96f14ec9bfa07b863c4b4d6b": {
          "model_module": "@jupyter-widgets/controls",
          "model_name": "FloatProgressModel",
          "model_module_version": "1.5.0",
          "state": {
            "_dom_classes": [],
            "_model_module": "@jupyter-widgets/controls",
            "_model_module_version": "1.5.0",
            "_model_name": "FloatProgressModel",
            "_view_count": null,
            "_view_module": "@jupyter-widgets/controls",
            "_view_module_version": "1.5.0",
            "_view_name": "ProgressView",
            "bar_style": "success",
            "description": "",
            "description_tooltip": null,
            "layout": "IPY_MODEL_31ced9a4ad814bbbbdeed3e1e9876bed",
            "max": 10,
            "min": 0,
            "orientation": "horizontal",
            "style": "IPY_MODEL_d2ad017019c14820ab6fa82678e9b505",
            "value": 10
          }
        },
        "1306c0a2d3304cfbb334a8b15142bde2": {
          "model_module": "@jupyter-widgets/controls",
          "model_name": "HTMLModel",
          "model_module_version": "1.5.0",
          "state": {
            "_dom_classes": [],
            "_model_module": "@jupyter-widgets/controls",
            "_model_module_version": "1.5.0",
            "_model_name": "HTMLModel",
            "_view_count": null,
            "_view_module": "@jupyter-widgets/controls",
            "_view_module_version": "1.5.0",
            "_view_name": "HTMLView",
            "description": "",
            "description_tooltip": null,
            "layout": "IPY_MODEL_7c4ba820fc0d40e3b35c429fd6ea7a0f",
            "placeholder": "​",
            "style": "IPY_MODEL_22b544d91960457597faf79901942898",
            "value": " 10/10 [00:00&lt;00:00, 230.16it/s]"
          }
        },
        "5e3c4b61f8944063bb2a5c21dd4a412d": {
          "model_module": "@jupyter-widgets/base",
          "model_name": "LayoutModel",
          "model_module_version": "1.2.0",
          "state": {
            "_model_module": "@jupyter-widgets/base",
            "_model_module_version": "1.2.0",
            "_model_name": "LayoutModel",
            "_view_count": null,
            "_view_module": "@jupyter-widgets/base",
            "_view_module_version": "1.2.0",
            "_view_name": "LayoutView",
            "align_content": null,
            "align_items": null,
            "align_self": null,
            "border": null,
            "bottom": null,
            "display": null,
            "flex": null,
            "flex_flow": null,
            "grid_area": null,
            "grid_auto_columns": null,
            "grid_auto_flow": null,
            "grid_auto_rows": null,
            "grid_column": null,
            "grid_gap": null,
            "grid_row": null,
            "grid_template_areas": null,
            "grid_template_columns": null,
            "grid_template_rows": null,
            "height": null,
            "justify_content": null,
            "justify_items": null,
            "left": null,
            "margin": null,
            "max_height": null,
            "max_width": null,
            "min_height": null,
            "min_width": null,
            "object_fit": null,
            "object_position": null,
            "order": null,
            "overflow": null,
            "overflow_x": null,
            "overflow_y": null,
            "padding": null,
            "right": null,
            "top": null,
            "visibility": null,
            "width": null
          }
        },
        "28e0d8575168475b8e61a36939886c50": {
          "model_module": "@jupyter-widgets/base",
          "model_name": "LayoutModel",
          "model_module_version": "1.2.0",
          "state": {
            "_model_module": "@jupyter-widgets/base",
            "_model_module_version": "1.2.0",
            "_model_name": "LayoutModel",
            "_view_count": null,
            "_view_module": "@jupyter-widgets/base",
            "_view_module_version": "1.2.0",
            "_view_name": "LayoutView",
            "align_content": null,
            "align_items": null,
            "align_self": null,
            "border": null,
            "bottom": null,
            "display": null,
            "flex": null,
            "flex_flow": null,
            "grid_area": null,
            "grid_auto_columns": null,
            "grid_auto_flow": null,
            "grid_auto_rows": null,
            "grid_column": null,
            "grid_gap": null,
            "grid_row": null,
            "grid_template_areas": null,
            "grid_template_columns": null,
            "grid_template_rows": null,
            "height": null,
            "justify_content": null,
            "justify_items": null,
            "left": null,
            "margin": null,
            "max_height": null,
            "max_width": null,
            "min_height": null,
            "min_width": null,
            "object_fit": null,
            "object_position": null,
            "order": null,
            "overflow": null,
            "overflow_x": null,
            "overflow_y": null,
            "padding": null,
            "right": null,
            "top": null,
            "visibility": null,
            "width": null
          }
        },
        "4f87f733cf8846238a34dafff7df313a": {
          "model_module": "@jupyter-widgets/controls",
          "model_name": "DescriptionStyleModel",
          "model_module_version": "1.5.0",
          "state": {
            "_model_module": "@jupyter-widgets/controls",
            "_model_module_version": "1.5.0",
            "_model_name": "DescriptionStyleModel",
            "_view_count": null,
            "_view_module": "@jupyter-widgets/base",
            "_view_module_version": "1.2.0",
            "_view_name": "StyleView",
            "description_width": ""
          }
        },
        "31ced9a4ad814bbbbdeed3e1e9876bed": {
          "model_module": "@jupyter-widgets/base",
          "model_name": "LayoutModel",
          "model_module_version": "1.2.0",
          "state": {
            "_model_module": "@jupyter-widgets/base",
            "_model_module_version": "1.2.0",
            "_model_name": "LayoutModel",
            "_view_count": null,
            "_view_module": "@jupyter-widgets/base",
            "_view_module_version": "1.2.0",
            "_view_name": "LayoutView",
            "align_content": null,
            "align_items": null,
            "align_self": null,
            "border": null,
            "bottom": null,
            "display": null,
            "flex": null,
            "flex_flow": null,
            "grid_area": null,
            "grid_auto_columns": null,
            "grid_auto_flow": null,
            "grid_auto_rows": null,
            "grid_column": null,
            "grid_gap": null,
            "grid_row": null,
            "grid_template_areas": null,
            "grid_template_columns": null,
            "grid_template_rows": null,
            "height": null,
            "justify_content": null,
            "justify_items": null,
            "left": null,
            "margin": null,
            "max_height": null,
            "max_width": null,
            "min_height": null,
            "min_width": null,
            "object_fit": null,
            "object_position": null,
            "order": null,
            "overflow": null,
            "overflow_x": null,
            "overflow_y": null,
            "padding": null,
            "right": null,
            "top": null,
            "visibility": null,
            "width": null
          }
        },
        "d2ad017019c14820ab6fa82678e9b505": {
          "model_module": "@jupyter-widgets/controls",
          "model_name": "ProgressStyleModel",
          "model_module_version": "1.5.0",
          "state": {
            "_model_module": "@jupyter-widgets/controls",
            "_model_module_version": "1.5.0",
            "_model_name": "ProgressStyleModel",
            "_view_count": null,
            "_view_module": "@jupyter-widgets/base",
            "_view_module_version": "1.2.0",
            "_view_name": "StyleView",
            "bar_color": null,
            "description_width": ""
          }
        },
        "7c4ba820fc0d40e3b35c429fd6ea7a0f": {
          "model_module": "@jupyter-widgets/base",
          "model_name": "LayoutModel",
          "model_module_version": "1.2.0",
          "state": {
            "_model_module": "@jupyter-widgets/base",
            "_model_module_version": "1.2.0",
            "_model_name": "LayoutModel",
            "_view_count": null,
            "_view_module": "@jupyter-widgets/base",
            "_view_module_version": "1.2.0",
            "_view_name": "LayoutView",
            "align_content": null,
            "align_items": null,
            "align_self": null,
            "border": null,
            "bottom": null,
            "display": null,
            "flex": null,
            "flex_flow": null,
            "grid_area": null,
            "grid_auto_columns": null,
            "grid_auto_flow": null,
            "grid_auto_rows": null,
            "grid_column": null,
            "grid_gap": null,
            "grid_row": null,
            "grid_template_areas": null,
            "grid_template_columns": null,
            "grid_template_rows": null,
            "height": null,
            "justify_content": null,
            "justify_items": null,
            "left": null,
            "margin": null,
            "max_height": null,
            "max_width": null,
            "min_height": null,
            "min_width": null,
            "object_fit": null,
            "object_position": null,
            "order": null,
            "overflow": null,
            "overflow_x": null,
            "overflow_y": null,
            "padding": null,
            "right": null,
            "top": null,
            "visibility": null,
            "width": null
          }
        },
        "22b544d91960457597faf79901942898": {
          "model_module": "@jupyter-widgets/controls",
          "model_name": "DescriptionStyleModel",
          "model_module_version": "1.5.0",
          "state": {
            "_model_module": "@jupyter-widgets/controls",
            "_model_module_version": "1.5.0",
            "_model_name": "DescriptionStyleModel",
            "_view_count": null,
            "_view_module": "@jupyter-widgets/base",
            "_view_module_version": "1.2.0",
            "_view_name": "StyleView",
            "description_width": ""
          }
        },
        "9209d8366f2c459eafd4b93d1b0cdad4": {
          "model_module": "@jupyter-widgets/controls",
          "model_name": "HBoxModel",
          "model_module_version": "1.5.0",
          "state": {
            "_dom_classes": [],
            "_model_module": "@jupyter-widgets/controls",
            "_model_module_version": "1.5.0",
            "_model_name": "HBoxModel",
            "_view_count": null,
            "_view_module": "@jupyter-widgets/controls",
            "_view_module_version": "1.5.0",
            "_view_name": "HBoxView",
            "box_style": "",
            "children": [
              "IPY_MODEL_8340f6cb350a4c67991b7fb1b0ff6d67",
              "IPY_MODEL_3442e0086a9a4ab489c85c8a3963442c",
              "IPY_MODEL_2938f9806c8444c0b564afde8d4961a7"
            ],
            "layout": "IPY_MODEL_f87846dd2a6941768c9cbe7200ac4dc1"
          }
        },
        "8340f6cb350a4c67991b7fb1b0ff6d67": {
          "model_module": "@jupyter-widgets/controls",
          "model_name": "HTMLModel",
          "model_module_version": "1.5.0",
          "state": {
            "_dom_classes": [],
            "_model_module": "@jupyter-widgets/controls",
            "_model_module_version": "1.5.0",
            "_model_name": "HTMLModel",
            "_view_count": null,
            "_view_module": "@jupyter-widgets/controls",
            "_view_module_version": "1.5.0",
            "_view_name": "HTMLView",
            "description": "",
            "description_tooltip": null,
            "layout": "IPY_MODEL_70b6bbf0d5e14d33b95aee331f56475e",
            "placeholder": "​",
            "style": "IPY_MODEL_5a4b873385024fd7b582e7056973c41b",
            "value": "Parsing nodes: 100%"
          }
        },
        "3442e0086a9a4ab489c85c8a3963442c": {
          "model_module": "@jupyter-widgets/controls",
          "model_name": "FloatProgressModel",
          "model_module_version": "1.5.0",
          "state": {
            "_dom_classes": [],
            "_model_module": "@jupyter-widgets/controls",
            "_model_module_version": "1.5.0",
            "_model_name": "FloatProgressModel",
            "_view_count": null,
            "_view_module": "@jupyter-widgets/controls",
            "_view_module_version": "1.5.0",
            "_view_name": "ProgressView",
            "bar_style": "success",
            "description": "",
            "description_tooltip": null,
            "layout": "IPY_MODEL_ca34cbde098f490fb182d331780f1a1b",
            "max": 39,
            "min": 0,
            "orientation": "horizontal",
            "style": "IPY_MODEL_fd294a5b6f404860b765e6578373b042",
            "value": 39
          }
        },
        "2938f9806c8444c0b564afde8d4961a7": {
          "model_module": "@jupyter-widgets/controls",
          "model_name": "HTMLModel",
          "model_module_version": "1.5.0",
          "state": {
            "_dom_classes": [],
            "_model_module": "@jupyter-widgets/controls",
            "_model_module_version": "1.5.0",
            "_model_name": "HTMLModel",
            "_view_count": null,
            "_view_module": "@jupyter-widgets/controls",
            "_view_module_version": "1.5.0",
            "_view_name": "HTMLView",
            "description": "",
            "description_tooltip": null,
            "layout": "IPY_MODEL_ab5c72d60abd4616ab0619f050371172",
            "placeholder": "​",
            "style": "IPY_MODEL_acac80edcb3048abab228739781d80c4",
            "value": " 39/39 [00:00&lt;00:00, 922.31it/s]"
          }
        },
        "f87846dd2a6941768c9cbe7200ac4dc1": {
          "model_module": "@jupyter-widgets/base",
          "model_name": "LayoutModel",
          "model_module_version": "1.2.0",
          "state": {
            "_model_module": "@jupyter-widgets/base",
            "_model_module_version": "1.2.0",
            "_model_name": "LayoutModel",
            "_view_count": null,
            "_view_module": "@jupyter-widgets/base",
            "_view_module_version": "1.2.0",
            "_view_name": "LayoutView",
            "align_content": null,
            "align_items": null,
            "align_self": null,
            "border": null,
            "bottom": null,
            "display": null,
            "flex": null,
            "flex_flow": null,
            "grid_area": null,
            "grid_auto_columns": null,
            "grid_auto_flow": null,
            "grid_auto_rows": null,
            "grid_column": null,
            "grid_gap": null,
            "grid_row": null,
            "grid_template_areas": null,
            "grid_template_columns": null,
            "grid_template_rows": null,
            "height": null,
            "justify_content": null,
            "justify_items": null,
            "left": null,
            "margin": null,
            "max_height": null,
            "max_width": null,
            "min_height": null,
            "min_width": null,
            "object_fit": null,
            "object_position": null,
            "order": null,
            "overflow": null,
            "overflow_x": null,
            "overflow_y": null,
            "padding": null,
            "right": null,
            "top": null,
            "visibility": null,
            "width": null
          }
        },
        "70b6bbf0d5e14d33b95aee331f56475e": {
          "model_module": "@jupyter-widgets/base",
          "model_name": "LayoutModel",
          "model_module_version": "1.2.0",
          "state": {
            "_model_module": "@jupyter-widgets/base",
            "_model_module_version": "1.2.0",
            "_model_name": "LayoutModel",
            "_view_count": null,
            "_view_module": "@jupyter-widgets/base",
            "_view_module_version": "1.2.0",
            "_view_name": "LayoutView",
            "align_content": null,
            "align_items": null,
            "align_self": null,
            "border": null,
            "bottom": null,
            "display": null,
            "flex": null,
            "flex_flow": null,
            "grid_area": null,
            "grid_auto_columns": null,
            "grid_auto_flow": null,
            "grid_auto_rows": null,
            "grid_column": null,
            "grid_gap": null,
            "grid_row": null,
            "grid_template_areas": null,
            "grid_template_columns": null,
            "grid_template_rows": null,
            "height": null,
            "justify_content": null,
            "justify_items": null,
            "left": null,
            "margin": null,
            "max_height": null,
            "max_width": null,
            "min_height": null,
            "min_width": null,
            "object_fit": null,
            "object_position": null,
            "order": null,
            "overflow": null,
            "overflow_x": null,
            "overflow_y": null,
            "padding": null,
            "right": null,
            "top": null,
            "visibility": null,
            "width": null
          }
        },
        "5a4b873385024fd7b582e7056973c41b": {
          "model_module": "@jupyter-widgets/controls",
          "model_name": "DescriptionStyleModel",
          "model_module_version": "1.5.0",
          "state": {
            "_model_module": "@jupyter-widgets/controls",
            "_model_module_version": "1.5.0",
            "_model_name": "DescriptionStyleModel",
            "_view_count": null,
            "_view_module": "@jupyter-widgets/base",
            "_view_module_version": "1.2.0",
            "_view_name": "StyleView",
            "description_width": ""
          }
        },
        "ca34cbde098f490fb182d331780f1a1b": {
          "model_module": "@jupyter-widgets/base",
          "model_name": "LayoutModel",
          "model_module_version": "1.2.0",
          "state": {
            "_model_module": "@jupyter-widgets/base",
            "_model_module_version": "1.2.0",
            "_model_name": "LayoutModel",
            "_view_count": null,
            "_view_module": "@jupyter-widgets/base",
            "_view_module_version": "1.2.0",
            "_view_name": "LayoutView",
            "align_content": null,
            "align_items": null,
            "align_self": null,
            "border": null,
            "bottom": null,
            "display": null,
            "flex": null,
            "flex_flow": null,
            "grid_area": null,
            "grid_auto_columns": null,
            "grid_auto_flow": null,
            "grid_auto_rows": null,
            "grid_column": null,
            "grid_gap": null,
            "grid_row": null,
            "grid_template_areas": null,
            "grid_template_columns": null,
            "grid_template_rows": null,
            "height": null,
            "justify_content": null,
            "justify_items": null,
            "left": null,
            "margin": null,
            "max_height": null,
            "max_width": null,
            "min_height": null,
            "min_width": null,
            "object_fit": null,
            "object_position": null,
            "order": null,
            "overflow": null,
            "overflow_x": null,
            "overflow_y": null,
            "padding": null,
            "right": null,
            "top": null,
            "visibility": null,
            "width": null
          }
        },
        "fd294a5b6f404860b765e6578373b042": {
          "model_module": "@jupyter-widgets/controls",
          "model_name": "ProgressStyleModel",
          "model_module_version": "1.5.0",
          "state": {
            "_model_module": "@jupyter-widgets/controls",
            "_model_module_version": "1.5.0",
            "_model_name": "ProgressStyleModel",
            "_view_count": null,
            "_view_module": "@jupyter-widgets/base",
            "_view_module_version": "1.2.0",
            "_view_name": "StyleView",
            "bar_color": null,
            "description_width": ""
          }
        },
        "ab5c72d60abd4616ab0619f050371172": {
          "model_module": "@jupyter-widgets/base",
          "model_name": "LayoutModel",
          "model_module_version": "1.2.0",
          "state": {
            "_model_module": "@jupyter-widgets/base",
            "_model_module_version": "1.2.0",
            "_model_name": "LayoutModel",
            "_view_count": null,
            "_view_module": "@jupyter-widgets/base",
            "_view_module_version": "1.2.0",
            "_view_name": "LayoutView",
            "align_content": null,
            "align_items": null,
            "align_self": null,
            "border": null,
            "bottom": null,
            "display": null,
            "flex": null,
            "flex_flow": null,
            "grid_area": null,
            "grid_auto_columns": null,
            "grid_auto_flow": null,
            "grid_auto_rows": null,
            "grid_column": null,
            "grid_gap": null,
            "grid_row": null,
            "grid_template_areas": null,
            "grid_template_columns": null,
            "grid_template_rows": null,
            "height": null,
            "justify_content": null,
            "justify_items": null,
            "left": null,
            "margin": null,
            "max_height": null,
            "max_width": null,
            "min_height": null,
            "min_width": null,
            "object_fit": null,
            "object_position": null,
            "order": null,
            "overflow": null,
            "overflow_x": null,
            "overflow_y": null,
            "padding": null,
            "right": null,
            "top": null,
            "visibility": null,
            "width": null
          }
        },
        "acac80edcb3048abab228739781d80c4": {
          "model_module": "@jupyter-widgets/controls",
          "model_name": "DescriptionStyleModel",
          "model_module_version": "1.5.0",
          "state": {
            "_model_module": "@jupyter-widgets/controls",
            "_model_module_version": "1.5.0",
            "_model_name": "DescriptionStyleModel",
            "_view_count": null,
            "_view_module": "@jupyter-widgets/base",
            "_view_module_version": "1.2.0",
            "_view_name": "StyleView",
            "description_width": ""
          }
        }
      }
    }
  },
  "cells": [
    {
      "cell_type": "markdown",
      "metadata": {
        "id": "view-in-github",
        "colab_type": "text"
      },
      "source": [
        "<a href=\"https://colab.research.google.com/github/GunduSriBhanu/LLM_Vector_Stores/blob/main/LLama_Index_Neo4j_Vector_Store_Property_Graphs.ipynb\" target=\"_parent\"><img src=\"https://colab.research.google.com/assets/colab-badge.svg\" alt=\"Open In Colab\"/></a>"
      ]
    },
    {
      "cell_type": "code",
      "execution_count": null,
      "metadata": {
        "id": "DmEcMK2Gaj_O"
      },
      "outputs": [],
      "source": [
        "!pip install --quiet llama-index llama-index-graph-stores-neo4j llama-index-program-openai llama-index-llms-openai langchain-groq"
      ]
    },
    {
      "cell_type": "code",
      "source": [
        "import os"
      ],
      "metadata": {
        "id": "NKcfm05YdBW8"
      },
      "execution_count": null,
      "outputs": []
    },
    {
      "cell_type": "code",
      "source": [
        "import nest_asyncio\n",
        "\n",
        "nest_asyncio.apply()"
      ],
      "metadata": {
        "id": "zqhXYXFXaztY"
      },
      "execution_count": null,
      "outputs": []
    },
    {
      "cell_type": "code",
      "source": [
        "from google.colab import userdata"
      ],
      "metadata": {
        "id": "ov3xfhZqA5uy"
      },
      "execution_count": null,
      "outputs": []
    },
    {
      "cell_type": "markdown",
      "source": [],
      "metadata": {
        "id": "ku3wBQIA3w8Y"
      }
    },
    {
      "cell_type": "code",
      "source": [
        "groq_api_key=userdata.get('groq_api_key')\n",
        "os.environ['OPENAI_API_KEY'] =userdata.get('OPENAI_API_KEY')"
      ],
      "metadata": {
        "id": "pLpjqmhGc7Ot"
      },
      "execution_count": null,
      "outputs": []
    },
    {
      "cell_type": "code",
      "source": [
        "#Graph DB Configuration\n",
        "\n",
        "NEO4J_URI = userdata.get('NEO4J_URI')\n",
        "NEO4J_USERNAME = userdata.get('NEO4J_USERNAME')\n",
        "NEO4J_PASSWORD = userdata.get('NEO4J_PASSWORD')\n"
      ],
      "metadata": {
        "id": "5lc-axCJcnZN"
      },
      "execution_count": null,
      "outputs": []
    },
    {
      "cell_type": "code",
      "source": [
        "from llama_index.graph_stores.neo4j import Neo4jPGStore\n",
        "\n",
        "\n",
        "graph_store = Neo4jPGStore(\n",
        "    username=NEO4J_USERNAME,\n",
        "    password=NEO4J_PASSWORD,\n",
        "    url=NEO4J_URI,\n",
        ")"
      ],
      "metadata": {
        "id": "Wz1mrEw2a66U"
      },
      "execution_count": null,
      "outputs": []
    },
    {
      "cell_type": "code",
      "source": [
        "from google.colab import drive\n",
        "drive.mount('/content/drive')"
      ],
      "metadata": {
        "colab": {
          "base_uri": "https://localhost:8080/"
        },
        "id": "Wrfp1V6wB33J",
        "outputId": "b8c17690-2920-4da0-879a-ae8cf74d7233"
      },
      "execution_count": null,
      "outputs": [
        {
          "output_type": "stream",
          "name": "stdout",
          "text": [
            "Mounted at /content/drive\n"
          ]
        }
      ]
    },
    {
      "cell_type": "code",
      "source": [
        "import pandas as pd\n",
        "from llama_index.core import Document\n",
        "\n",
        "news = pd.read_csv(\"/content/electronics_chips.csv\")\n",
        "documents = [Document(text=f\"{row['Manufacturer']} provides part number {row['Part_Number']} for {row['Purchase_Description']}\",metadata={\"copper\":[\"cu\"]}) for i, row in news.iterrows()]\n",
        "news.head()"
      ],
      "metadata": {
        "id": "j9pe7a9hc3OL",
        "collapsed": true
      },
      "execution_count": null,
      "outputs": []
    },
    {
      "cell_type": "code",
      "source": [
        "documents[0]"
      ],
      "metadata": {
        "id": "c9XicHfhIfQm"
      },
      "execution_count": null,
      "outputs": []
    },
    {
      "cell_type": "code",
      "source": [
        "documents = []\n",
        "ids = []\n",
        "\n",
        "for i, row in news.iterrows():\n",
        "    doc = Document(\n",
        "        text=f\"{row['Manufacturer']} provides part number {row['Part_Number']} for {row['Purchase_Description']}\",\n",
        "        metadata={\"copper\": [\"cu\", \"Type 1\"]}\n",
        "    )\n",
        "    documents.append(doc)\n",
        "    ids.append(doc.id_)  # Extract the id_ from the Document\n",
        "\n",
        "# Add the documents to the DataFrame in a new column\n",
        "news['Document'] = documents\n",
        "news.head()"
      ],
      "metadata": {
        "id": "xWHLMO-iJFKb"
      },
      "execution_count": null,
      "outputs": []
    },
    {
      "cell_type": "code",
      "source": [
        "news['triplet_source_id'] = ids"
      ],
      "metadata": {
        "id": "JwuWVccyJY57"
      },
      "execution_count": null,
      "outputs": []
    },
    {
      "cell_type": "code",
      "source": [
        "news['Document'][0]"
      ],
      "metadata": {
        "id": "j10j9CwiJZ6s"
      },
      "execution_count": null,
      "outputs": []
    },
    {
      "cell_type": "code",
      "source": [
        "# Load the Excel file\n",
        "file_path = '/content/DatabaseExport242424.xlsx'\n",
        "df = pd.read_excel(file_path)\n",
        "df"
      ],
      "metadata": {
        "id": "HxKmpuILsSAM",
        "collapsed": true
      },
      "execution_count": null,
      "outputs": []
    },
    {
      "cell_type": "code",
      "source": [
        "from google.colab import userdata\n"
      ],
      "metadata": {
        "id": "J5p8cczA1Dt3"
      },
      "execution_count": null,
      "outputs": []
    },
    {
      "cell_type": "code",
      "source": [
        "from llama_index.embeddings.openai import OpenAIEmbedding\n",
        "from llama_index.llms.openai import OpenAI\n",
        "from langchain_groq import ChatGroq\n",
        "from llama_index.core.indices.property_graph import DynamicLLMPathExtractor\n",
        "from llama_index.core import PropertyGraphIndex\n",
        "groq_api_key=userdata.get('groq_api_key')\n",
        "os.environ['OPENAI_API_KEY'] =userdata.get('OPENAI_API_KEY')\n",
        "llm = OpenAI(model=\"gpt-3.5-turbo-0125\", temperature=0.0)\n",
        "#llm=ChatGroq(groq_api_key=groq_api_key,model_name=\"Gemma2-9b-It\")\n",
        "embed_model = OpenAIEmbedding(model_name=\"text-embedding-3-small\")"
      ],
      "metadata": {
        "id": "W6zvRfFDzbFo"
      },
      "execution_count": null,
      "outputs": []
    },
    {
      "cell_type": "code",
      "source": [
        "docs = [\n",
        "    Document(\n",
        "        text=f\"{row['Component_Long_Description']} with size of {row['Size']}, weight {row['Weight']} and thickness {row['Thickness']}\",\n",
        "        metadata={\n",
        "            \"Material_Code\": {\n",
        "               \"value\": \"American Society for Testing and Materials\",\n",
        "              \"abbreviation\": \"ASTM\",\n",
        "\n",
        "             }\n",
        "\n",
        "          }\n",
        "    )\n",
        "    for i, row in df.iterrows()\n",
        "]\n",
        "docs"
      ],
      "metadata": {
        "id": "AGm_3m3eyOk0",
        "collapsed": true
      },
      "execution_count": null,
      "outputs": []
    },
    {
      "cell_type": "code",
      "source": [
        "df.shape"
      ],
      "metadata": {
        "id": "24j9Vbls3zRl",
        "colab": {
          "base_uri": "https://localhost:8080/"
        },
        "outputId": "bc1b0dba-81c5-4d41-f88d-3441e5dc387e"
      },
      "execution_count": null,
      "outputs": [
        {
          "output_type": "execute_result",
          "data": {
            "text/plain": [
              "(55276, 46)"
            ]
          },
          "metadata": {},
          "execution_count": 60
        }
      ]
    },
    {
      "cell_type": "code",
      "source": [
        "kg_extractor = DynamicLLMPathExtractor(\n",
        "    llm=llm,\n",
        "    max_triplets_per_chunk=20,\n",
        "    num_workers=6,\n",
        "    allowed_entity_types=[\"MATERIAL\", \"MATERIAL_TYPE\",\"PART_NUMBER\",\"MANUFACTURER\",\"DIMENSION\",\"PRODUCT\"],\n",
        "    allowed_relation_types=[\"HAS\", \"HAS\", \"PART_OF\",\"MENTIONS\",\"RESPONDS\",\"SIZE_OF\",\"SIZE_IN_INCHES\",\"PRODUCES\"],\n",
        ")\n",
        "\n",
        "index = PropertyGraphIndex.from_documents(\n",
        "    documents[:50],\n",
        "    kg_extractors=[kg_extractor],\n",
        "    llm=llm,\n",
        "    embed_model=embed_model,\n",
        "    property_graph_store=graph_store,\n",
        "    show_progress=True,\n",
        ")"
      ],
      "metadata": {
        "id": "y1OKkuHY2DB4",
        "colab": {
          "base_uri": "https://localhost:8080/",
          "height": 101,
          "referenced_widgets": [
            "55380cf1c2064f21a55ba8890a17f757",
            "9111b3928bc7421b9482026b43bbe187",
            "9f35f19ecd4d4449a1351316b4b58d9f",
            "5b47790d989e40f0b968d2f14dd72a93",
            "4b55218eed19461b83281e075e8e573f",
            "b4600537cab4429998d32667ffbdfa4f",
            "93c6eef625454288ab8ae7bc11110aa7",
            "6674bf16e7a8410d962f181af6d968be",
            "398fb5518cd0433ba333de3c956b3dc8",
            "88a0d125f5cc41d6bd88897b0aab438e",
            "1a568316745d4e15894ad5b55af22ea7"
          ]
        },
        "outputId": "f3efd431-3fe9-431b-9bb4-01b9e3d40e12"
      },
      "execution_count": null,
      "outputs": [
        {
          "output_type": "display_data",
          "data": {
            "text/plain": [
              "Parsing nodes:   0%|          | 0/39 [00:00<?, ?it/s]"
            ],
            "application/vnd.jupyter.widget-view+json": {
              "version_major": 2,
              "version_minor": 0,
              "model_id": "55380cf1c2064f21a55ba8890a17f757"
            }
          },
          "metadata": {}
        },
        {
          "output_type": "stream",
          "name": "stderr",
          "text": [
            "Extracting and inferring knowledge graph from text: 100%|██████████| 39/39 [00:20<00:00,  1.93it/s]\n",
            "Generating embeddings: 100%|██████████| 1/1 [00:01<00:00,  1.20s/it]\n",
            "Generating embeddings: 100%|██████████| 3/3 [00:01<00:00,  2.53it/s]\n"
          ]
        }
      ]
    },
    {
      "cell_type": "code",
      "source": [
        "#documents"
      ],
      "metadata": {
        "id": "e4KG126dDiup"
      },
      "execution_count": null,
      "outputs": []
    },
    {
      "cell_type": "code",
      "source": [
        "from llama_index.embeddings.openai import OpenAIEmbedding\n",
        "from llama_index.llms.openai import OpenAI\n",
        "from langchain_groq import ChatGroq\n",
        "from llama_index.core.indices.property_graph import DynamicLLMPathExtractor\n",
        "from llama_index.core import PropertyGraphIndex\n",
        "llm = OpenAI(model=\"gpt-3.5-turbo-0125\", temperature=0.0)\n",
        "#llm=ChatGroq(groq_api_key=groq_api_key,model_name=\"Gemma2-9b-It\")\n",
        "embed_model = OpenAIEmbedding(model_name=\"text-embedding-3-small\")"
      ],
      "metadata": {
        "id": "732sB_f8dkGR"
      },
      "execution_count": null,
      "outputs": []
    },
    {
      "cell_type": "code",
      "source": [
        "\n",
        "kg_extractor = DynamicLLMPathExtractor(\n",
        "    llm=llm,\n",
        "    max_triplets_per_chunk=20,\n",
        "    num_workers=6,\n",
        "    allowed_entity_types=[\"MATERIAL\", \"MATERIAL_TYPE\",\"PART_NUMBER\",\"MANUFACTURER\",\"DIMENSION\",\"PRODUCT\"],\n",
        "    allowed_relation_types=[\"HAS\", \"HAS\", \"PART_OF\",\"MENTIONS\",\"RESPONDS\",\"SIZE_OF\",\"SIZE_IN_INCHES\",\"PRODUCES\"],\n",
        ")\n",
        "\n",
        "index = PropertyGraphIndex.from_documents(\n",
        "    documents[:10],\n",
        "    kg_extractors=[kg_extractor],\n",
        "    llm=llm,\n",
        "    embed_model=embed_model,\n",
        "    property_graph_store=graph_store,\n",
        "    show_progress=True,\n",
        ")"
      ],
      "metadata": {
        "id": "eij90B63Rlgx",
        "colab": {
          "base_uri": "https://localhost:8080/",
          "height": 101,
          "referenced_widgets": [
            "b09e755e260848c2b046e27e0f0a3ab3",
            "a063a59963f04bb78f678f6fd9c627b5",
            "6564193c96f14ec9bfa07b863c4b4d6b",
            "1306c0a2d3304cfbb334a8b15142bde2",
            "5e3c4b61f8944063bb2a5c21dd4a412d",
            "28e0d8575168475b8e61a36939886c50",
            "4f87f733cf8846238a34dafff7df313a",
            "31ced9a4ad814bbbbdeed3e1e9876bed",
            "d2ad017019c14820ab6fa82678e9b505",
            "7c4ba820fc0d40e3b35c429fd6ea7a0f",
            "22b544d91960457597faf79901942898"
          ]
        },
        "outputId": "d771e231-69c7-42c5-ea41-362e9d438176"
      },
      "execution_count": null,
      "outputs": [
        {
          "output_type": "display_data",
          "data": {
            "text/plain": [
              "Parsing nodes:   0%|          | 0/10 [00:00<?, ?it/s]"
            ],
            "application/vnd.jupyter.widget-view+json": {
              "version_major": 2,
              "version_minor": 0,
              "model_id": "b09e755e260848c2b046e27e0f0a3ab3"
            }
          },
          "metadata": {}
        },
        {
          "output_type": "stream",
          "name": "stderr",
          "text": [
            "Extracting and inferring knowledge graph from text: 100%|██████████| 10/10 [00:05<00:00,  1.72it/s]\n",
            "Generating embeddings: 100%|██████████| 1/1 [00:00<00:00,  1.94it/s]\n",
            "Generating embeddings: 100%|██████████| 1/1 [00:00<00:00,  1.72it/s]\n"
          ]
        }
      ]
    },
    {
      "cell_type": "code",
      "source": [
        "from typing import Literal\n",
        "from llama_index.core.indices.property_graph import SchemaLLMPathExtractor\n",
        "\n",
        "# best practice to use upper-case\n",
        "entities = Literal[\"MANUFACTURER\", \"MATERIAL\", \"PRODUCT\", \"PART NUMBER\",\"MATERIAL_TYPE\"]\n",
        "relations = Literal[\n",
        "    \"HAS_DIMENSION\",\n",
        "    \"HAS_MATERIAL\",\n",
        "    \"HAS_MATERIAL_TYPE\",\n",
        "    \"HAS_PRODUCT\",\n",
        "    \"HAS_MANUFACTURER\",\n",
        "    \"HAS_SIZE\",\n",
        "    \"HAS_COMPANY\",\n",
        "    \"HAS_PART_NUMBER\",\n",
        "    \"PROVIDES\",\n",
        "]"
      ],
      "metadata": {
        "id": "NxGufThbeKes"
      },
      "execution_count": null,
      "outputs": []
    },
    {
      "cell_type": "code",
      "source": [
        "# define which entities can have which relations\n",
        "validation_schema = {\n",
        "    \"Manufacturer\": [\"HAS_PART_NUMBER\"],\n",
        "\n",
        "    \"Part_Number\": [\"HAS_MANUFACTURER\",\"HAS_DIMENSION\", \"HAS_SIZE\",\"HAS_PRODUCT\",\"HAS_MATERIAL\", \"HAS_MATERIAL_TYPE\"],\n",
        "}\n"
      ],
      "metadata": {
        "id": "c6vpQjnfqagK"
      },
      "execution_count": null,
      "outputs": []
    },
    {
      "cell_type": "code",
      "source": [
        "from llama_index.core import PropertyGraphIndex\n",
        "\n",
        "kg_extractor = SchemaLLMPathExtractor(\n",
        "    llm=llm,\n",
        "    possible_entities=entities,\n",
        "    possible_relations=relations,\n",
        "    kg_validation_schema=validation_schema,\n",
        "    # if false, allows for values outside of the schema\n",
        "    # useful for using the schema as a suggestion\n",
        "    strict=True,\n",
        ")\n",
        "\n",
        "NUMBER_OF_ROWS = 40\n",
        "\n",
        "index = PropertyGraphIndex.from_documents(\n",
        "    documents[:NUMBER_OF_ROWS],\n",
        "    kg_extractors=[kg_extractor],\n",
        "    llm=llm,\n",
        "    embed_model=embed_model,\n",
        "    property_graph_store=graph_store,\n",
        "    show_progress=True,\n",
        ")"
      ],
      "metadata": {
        "id": "RoYw2a2frDiI",
        "colab": {
          "base_uri": "https://localhost:8080/",
          "height": 101,
          "referenced_widgets": [
            "9209d8366f2c459eafd4b93d1b0cdad4",
            "8340f6cb350a4c67991b7fb1b0ff6d67",
            "3442e0086a9a4ab489c85c8a3963442c",
            "2938f9806c8444c0b564afde8d4961a7",
            "f87846dd2a6941768c9cbe7200ac4dc1",
            "70b6bbf0d5e14d33b95aee331f56475e",
            "5a4b873385024fd7b582e7056973c41b",
            "ca34cbde098f490fb182d331780f1a1b",
            "fd294a5b6f404860b765e6578373b042",
            "ab5c72d60abd4616ab0619f050371172",
            "acac80edcb3048abab228739781d80c4"
          ]
        },
        "outputId": "651629ba-8d09-4a01-82e9-dff81a3ebe8c"
      },
      "execution_count": null,
      "outputs": [
        {
          "output_type": "display_data",
          "data": {
            "text/plain": [
              "Parsing nodes:   0%|          | 0/39 [00:00<?, ?it/s]"
            ],
            "application/vnd.jupyter.widget-view+json": {
              "version_major": 2,
              "version_minor": 0,
              "model_id": "9209d8366f2c459eafd4b93d1b0cdad4"
            }
          },
          "metadata": {}
        },
        {
          "output_type": "stream",
          "name": "stderr",
          "text": [
            "Extracting paths from text with schema: 100%|██████████| 39/39 [00:20<00:00,  1.86it/s]\n",
            "Generating embeddings: 100%|██████████| 1/1 [00:00<00:00,  1.16it/s]\n",
            "Generating embeddings: 0it [00:00, ?it/s]\n"
          ]
        }
      ]
    },
    {
      "cell_type": "code",
      "source": [
        "retriever = index.as_retriever(\n",
        "    include_text=False,  # include source text in returned nodes, default True\n",
        ")\n",
        "\n",
        "nodes = retriever.retrieve(\"What are part numbers?\")\n",
        "\n",
        "for node in nodes:\n",
        "    print(node.text)"
      ],
      "metadata": {
        "id": "BrN0aMUZ-d7i"
      },
      "execution_count": null,
      "outputs": []
    },
    {
      "cell_type": "code",
      "source": [
        "from pydantic import BaseModel\n",
        "from typing import Optional, List\n",
        "\n",
        "\n",
        "class Entities(BaseModel):\n",
        "    \"\"\"List of named entities in the text such as names of material, dimension, size, product, part number, material type, manufacturer of construction industry \"\"\"\n",
        "    names: Optional[List[str]]\n",
        "\n",
        "\n",
        "prompt_template_entities = \"\"\"\n",
        "Extract all entities such as material, dimension, size, product, part number, material type, manufacturer of construction industry\n",
        "from the following text:\n",
        "{text}\n",
        "\"\"\""
      ],
      "metadata": {
        "id": "4GfkOYei-3LV"
      },
      "execution_count": null,
      "outputs": []
    },
    {
      "cell_type": "code",
      "source": [
        "from typing import Any, Optional\n",
        "\n",
        "from llama_index.core.embeddings import BaseEmbedding\n",
        "from llama_index.core.retrievers import CustomPGRetriever, VectorContextRetriever\n",
        "from llama_index.core.vector_stores.types import VectorStore\n",
        "from llama_index.program.openai import OpenAIPydanticProgram\n",
        "from llama_index.core.retrievers import (\n",
        "    CustomPGRetriever,\n",
        "    VectorContextRetriever,\n",
        "    TextToCypherRetriever,\n",
        ")\n",
        "\n",
        "class MyCustomRetriever(CustomPGRetriever):\n",
        "    \"\"\"Custom retriever with cohere reranking.\"\"\"\n",
        "\n",
        "    def init(\n",
        "        self,\n",
        "        ## vector context retriever params\n",
        "        embed_model: Optional[BaseEmbedding] = None,\n",
        "        vector_store: Optional[VectorStore] = None,\n",
        "        similarity_top_k: int = 4,\n",
        "        path_depth: int = 1,\n",
        "        include_text: bool = True,\n",
        "        **kwargs: Any,\n",
        "    ) -> None:\n",
        "        \"\"\"Uses any kwargs passed in from class constructor.\"\"\"\n",
        "        self.entity_extraction = OpenAIPydanticProgram.from_defaults(\n",
        "            output_cls=Entities, prompt_template_str=prompt_template_entities\n",
        "        )\n",
        "        self.vector_retriever = VectorContextRetriever(\n",
        "            self.graph_store,\n",
        "            include_text=self.include_text,\n",
        "            embed_model=embed_model,\n",
        "            vector_store=vector_store,  #added\n",
        "            similarity_top_k=similarity_top_k,\n",
        "            path_depth=path_depth,\n",
        "        )\n",
        "        self.cypher_retriever = TextToCypherRetriever(\n",
        "            self.graph_store,\n",
        "            llm=llm,\n",
        "            #text_to_cypher_template=text_to_cypher_template\n",
        "            ## NOTE: you can attach other parameters here if you'd like\n",
        "        )\n",
        "\n",
        "    def custom_retrieve(self, query_str: str) -> str:\n",
        "        \"\"\"Define custom retriever with reranking.\n",
        "\n",
        "        Could return `str`, `TextNode`, `NodeWithScore`, or a list of those.\n",
        "        \"\"\"\n",
        "        entities = self.entity_extraction(text=query_str).names\n",
        "        result_nodes = []\n",
        "        if entities:\n",
        "            print(f\"Detected entities: {entities}\")\n",
        "            for entity in entities:\n",
        "                result_nodes.extend(self.vector_retriever.retrieve(entity))\n",
        "        else:\n",
        "            result_nodes.extend(self.vector_retriever.retrieve(query_str))\n",
        "        ## TMP: please change\n",
        "        final_text = \"\\n\\n\".join(\n",
        "            [n.get_content(metadata_mode=\"llm\") for n in result_nodes]\n",
        "        )\n",
        "        return final_text"
      ],
      "metadata": {
        "id": "e2SBjcow_SPF"
      },
      "execution_count": null,
      "outputs": []
    },
    {
      "cell_type": "code",
      "source": [
        "from llama_index.core.query_engine import RetrieverQueryEngine\n",
        "\n",
        "custom_sub_retriever = MyCustomRetriever(\n",
        "    index.property_graph_store,\n",
        "    include_text=True,\n",
        "    vector_store=index.vector_store,\n",
        "    embed_model=embed_model\n",
        ")\n",
        "\n",
        "query_engine = RetrieverQueryEngine.from_args(\n",
        "    index.as_retriever(sub_retrievers=[custom_sub_retriever]), llm=llm\n",
        ")"
      ],
      "metadata": {
        "id": "qY4K6FAU_VzO"
      },
      "execution_count": null,
      "outputs": []
    },
    {
      "cell_type": "markdown",
      "source": [],
      "metadata": {
        "id": "3fS3CK7Cb3gX"
      }
    },
    {
      "cell_type": "markdown",
      "source": [],
      "metadata": {
        "id": "xe-Mw3MDo6yh"
      }
    },
    {
      "cell_type": "code",
      "source": [
        "response = query_engine.query('provide STM32F part number manufacturer')\n",
        "print(str(response))\n"
      ],
      "metadata": {
        "id": "FM2Kdkct_Y60",
        "colab": {
          "base_uri": "https://localhost:8080/"
        },
        "outputId": "35864f56-b526-4275-a109-982d708ee8ff"
      },
      "execution_count": 3,
      "outputs": [
        {
          "output_type": "stream",
          "name": "stdout",
          "text": [
            "Detected entities: ['STM32F'] \n",
            "ST MICROCONTROLLERS\n"
          ]
        }
      ]
    },
    {
      "cell_type": "code",
      "source": [
        "from llama_index.graph_stores.neo4j import Neo4jPropertyGraphStore\n",
        "from llama_index.core import PropertyGraphIndex\n",
        "from llama_index.embeddings.openai import OpenAIEmbedding\n",
        "from llama_index.llms.openai import OpenAI\n",
        "\n",
        "\n",
        "\n",
        "index = PropertyGraphIndex.from_existing(\n",
        "    property_graph_store=graph_store,\n",
        "    llm=OpenAI(model=\"gpt-3.5-turbo\", temperature=0.3),\n",
        "    embed_model=OpenAIEmbedding(model_name=\"text-embedding-3-small\"),\n",
        ")\n",
        "# save\n",
        "index.storage_context.persist(\"./storage\")"
      ],
      "metadata": {
        "id": "t54DJzcpsesa"
      },
      "execution_count": null,
      "outputs": []
    },
    {
      "cell_type": "code",
      "source": [
        "nodes = index.as_retriever(include_text=False).retrieve('provide 3 inch oil seperator part number manufacturer')\n",
        "\n",
        "print(nodes[0])"
      ],
      "metadata": {
        "id": "RoTAY-lgshqI"
      },
      "execution_count": null,
      "outputs": []
    },
    {
      "cell_type": "code",
      "source": [
        "# Print the retrieved nodes' scores\n",
        "for node in nodes:\n",
        "    if hasattr(node, 'score'):\n",
        "        print(\"Score:\", node.score)"
      ],
      "metadata": {
        "id": "kdsGb_KpCw_C",
        "colab": {
          "base_uri": "https://localhost:8080/"
        },
        "outputId": "d383dfb1-175c-4e2c-f9e4-5da0ec01dd0c"
      },
      "execution_count": null,
      "outputs": [
        {
          "output_type": "stream",
          "name": "stdout",
          "text": [
            "Score: 0.7927436828613281\n",
            "Score: 0.7927436828613281\n",
            "Score: 0.7819414138793945\n",
            "Score: 0.7819414138793945\n",
            "Score: 0.7371950149536133\n",
            "Score: 0.7002053260803223\n",
            "Score: 0.7002053260803223\n"
          ]
        }
      ]
    },
    {
      "cell_type": "code",
      "source": [
        "from llama_index.core.query_engine import RetrieverQueryEngine\n",
        "\n",
        "custom_sub_retriever = MyCustomRetriever(\n",
        "    index.property_graph_store,\n",
        "    include_text=True,\n",
        "    #vector_store=index.vector_store,\n",
        "    embed_model=embed_model\n",
        ")\n",
        "\n",
        "query_engine = RetrieverQueryEngine.from_args(\n",
        "    index.as_retriever(sub_retrievers=[custom_sub_retriever]), llm=llm\n",
        ")"
      ],
      "metadata": {
        "id": "NKuwn9pf4JYd"
      },
      "execution_count": null,
      "outputs": []
    },
    {
      "cell_type": "code",
      "source": [
        "query = 'provide TRC1234 part number manufacturer '\n",
        "#matching all entities, matching atleast 1 or more entities\n",
        "response = query_engine.query(f'{query}')\n",
        "print(str(response))\n",
        "query_engine.query('clear history')\n"
      ],
      "metadata": {
        "id": "k3xCgN_S4OJQ",
        "colab": {
          "base_uri": "https://localhost:8080/"
        },
        "outputId": "6a212ed0-2cf0-4a76-b2fa-cc89e04ee9fa"
      },
      "execution_count": 1,
      "outputs": [
        {
          "output_type": "stream",
          "name": "stdout",
          "text": [
            "Detected entities: ['TRC1234'], \n",
            " TI INSTRUMENTS\n"
          ]
        }
      ]
    },
    {
      "cell_type": "code",
      "source": [
        "from llama_index.core.graph_stores import (\n",
        "    SimplePropertyGraphStore,\n",
        "    EntityNode,\n",
        "    Relation,\n",
        ")\n",
        "from llama_index.core.schema import TextNode\n",
        "\n",
        "graph_store = SimplePropertyGraphStore()\n",
        "\n",
        "graph_store\n"
      ],
      "metadata": {
        "id": "ZbmBk5NxIxfj",
        "colab": {
          "base_uri": "https://localhost:8080/"
        },
        "outputId": "7ef979ab-3f25-45f2-b348-9b358ae86769"
      },
      "execution_count": null,
      "outputs": [
        {
          "output_type": "execute_result",
          "data": {
            "text/plain": [
              "<llama_index.core.graph_stores.simple_labelled.SimplePropertyGraphStore at 0x79309c329090>"
            ]
          },
          "metadata": {},
          "execution_count": 78
        }
      ]
    }
  ]
}