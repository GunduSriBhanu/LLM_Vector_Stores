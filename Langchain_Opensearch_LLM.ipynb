{
  "cells": [
    {
      "cell_type": "markdown",
      "metadata": {
        "id": "view-in-github",
        "colab_type": "text"
      },
      "source": [
        "<a href=\"https://colab.research.google.com/github/GunduSriBhanu/LLM_Vector_Stores/blob/main/Langchain_Opensearch_LLM.ipynb\" target=\"_parent\"><img src=\"https://colab.research.google.com/assets/colab-badge.svg\" alt=\"Open In Colab\"/></a>"
      ]
    },
    {
      "cell_type": "markdown",
      "id": "3bc0d581-4b0a-4205-89ff-7b64acb74811",
      "metadata": {
        "id": "3bc0d581-4b0a-4205-89ff-7b64acb74811"
      },
      "source": [
        "# Check the List of libraries dependence presence"
      ]
    },
    {
      "cell_type": "code",
      "execution_count": null,
      "id": "cc542ef8-39ea-48a3-920b-2437130c3950",
      "metadata": {
        "tags": [],
        "id": "cc542ef8-39ea-48a3-920b-2437130c3950",
        "outputId": "bec0502e-50a5-4a82-e136-2033bde9468d"
      },
      "outputs": [
        {
          "name": "stdout",
          "output_type": "stream",
          "text": [
            "\n",
            "\u001b[1m[\u001b[0m\u001b[34;49mnotice\u001b[0m\u001b[1;39;49m]\u001b[0m\u001b[39;49m A new release of pip is available: \u001b[0m\u001b[31;49m23.2.1\u001b[0m\u001b[39;49m -> \u001b[0m\u001b[32;49m23.3\u001b[0m\n",
            "\u001b[1m[\u001b[0m\u001b[34;49mnotice\u001b[0m\u001b[1;39;49m]\u001b[0m\u001b[39;49m To update, run: \u001b[0m\u001b[32;49mpip install --upgrade pip\u001b[0m\n",
            "Note: you may need to restart the kernel to use updated packages.\n"
          ]
        }
      ],
      "source": [
        "pip list | grep detectron2"
      ]
    },
    {
      "cell_type": "markdown",
      "id": "72673873-1aa3-414c-a3f7-cd579bcfa9b6",
      "metadata": {
        "id": "72673873-1aa3-414c-a3f7-cd579bcfa9b6"
      },
      "source": [
        "# Installing all the libraries"
      ]
    },
    {
      "cell_type": "code",
      "execution_count": null,
      "id": "970e6d99-2106-444f-b32b-188c48b7568a",
      "metadata": {
        "tags": [],
        "id": "970e6d99-2106-444f-b32b-188c48b7568a",
        "outputId": "a32fa4e8-4ce1-4ce6-f5fa-04ecdd440b28"
      },
      "outputs": [
        {
          "name": "stdout",
          "output_type": "stream",
          "text": [
            "\u001b[33mWARNING: Running pip as the 'root' user can result in broken permissions and conflicting behaviour with the system package manager. It is recommended to use a virtual environment instead: https://pip.pypa.io/warnings/venv\u001b[0m\u001b[33m\n",
            "\u001b[0m\n",
            "\u001b[1m[\u001b[0m\u001b[34;49mnotice\u001b[0m\u001b[1;39;49m]\u001b[0m\u001b[39;49m A new release of pip is available: \u001b[0m\u001b[31;49m23.2.1\u001b[0m\u001b[39;49m -> \u001b[0m\u001b[32;49m23.3\u001b[0m\n",
            "\u001b[1m[\u001b[0m\u001b[34;49mnotice\u001b[0m\u001b[1;39;49m]\u001b[0m\u001b[39;49m To update, run: \u001b[0m\u001b[32;49mpip install --upgrade pip\u001b[0m\n",
            "\u001b[33mWARNING: Running pip as the 'root' user can result in broken permissions and conflicting behaviour with the system package manager. It is recommended to use a virtual environment instead: https://pip.pypa.io/warnings/venv\u001b[0m\u001b[33m\n",
            "\u001b[0m\n",
            "\u001b[1m[\u001b[0m\u001b[34;49mnotice\u001b[0m\u001b[1;39;49m]\u001b[0m\u001b[39;49m A new release of pip is available: \u001b[0m\u001b[31;49m23.2.1\u001b[0m\u001b[39;49m -> \u001b[0m\u001b[32;49m23.3\u001b[0m\n",
            "\u001b[1m[\u001b[0m\u001b[34;49mnotice\u001b[0m\u001b[1;39;49m]\u001b[0m\u001b[39;49m To update, run: \u001b[0m\u001b[32;49mpip install --upgrade pip\u001b[0m\n",
            "Requirement already satisfied: poppler-utils in /opt/conda/lib/python3.10/site-packages (0.1.0)\n",
            "Requirement already satisfied: Click>=7.0 in /opt/conda/lib/python3.10/site-packages (from poppler-utils) (8.1.7)\n",
            "\u001b[33mWARNING: Running pip as the 'root' user can result in broken permissions and conflicting behaviour with the system package manager. It is recommended to use a virtual environment instead: https://pip.pypa.io/warnings/venv\u001b[0m\u001b[33m\n",
            "\u001b[0m\n",
            "\u001b[1m[\u001b[0m\u001b[34;49mnotice\u001b[0m\u001b[1;39;49m]\u001b[0m\u001b[39;49m A new release of pip is available: \u001b[0m\u001b[31;49m23.2.1\u001b[0m\u001b[39;49m -> \u001b[0m\u001b[32;49m23.3\u001b[0m\n",
            "\u001b[1m[\u001b[0m\u001b[34;49mnotice\u001b[0m\u001b[1;39;49m]\u001b[0m\u001b[39;49m To update, run: \u001b[0m\u001b[32;49mpip install --upgrade pip\u001b[0m\n",
            "\u001b[33mWARNING: Running pip as the 'root' user can result in broken permissions and conflicting behaviour with the system package manager. It is recommended to use a virtual environment instead: https://pip.pypa.io/warnings/venv\u001b[0m\u001b[33m\n",
            "\u001b[0m\n",
            "\u001b[1m[\u001b[0m\u001b[34;49mnotice\u001b[0m\u001b[1;39;49m]\u001b[0m\u001b[39;49m A new release of pip is available: \u001b[0m\u001b[31;49m23.2.1\u001b[0m\u001b[39;49m -> \u001b[0m\u001b[32;49m23.3\u001b[0m\n",
            "\u001b[1m[\u001b[0m\u001b[34;49mnotice\u001b[0m\u001b[1;39;49m]\u001b[0m\u001b[39;49m To update, run: \u001b[0m\u001b[32;49mpip install --upgrade pip\u001b[0m\n",
            "Requirement already satisfied: pypdf in /opt/conda/lib/python3.10/site-packages (3.16.4)\n",
            "\u001b[33mWARNING: Running pip as the 'root' user can result in broken permissions and conflicting behaviour with the system package manager. It is recommended to use a virtual environment instead: https://pip.pypa.io/warnings/venv\u001b[0m\u001b[33m\n",
            "\u001b[0m\n",
            "\u001b[1m[\u001b[0m\u001b[34;49mnotice\u001b[0m\u001b[1;39;49m]\u001b[0m\u001b[39;49m A new release of pip is available: \u001b[0m\u001b[31;49m23.2.1\u001b[0m\u001b[39;49m -> \u001b[0m\u001b[32;49m23.3\u001b[0m\n",
            "\u001b[1m[\u001b[0m\u001b[34;49mnotice\u001b[0m\u001b[1;39;49m]\u001b[0m\u001b[39;49m To update, run: \u001b[0m\u001b[32;49mpip install --upgrade pip\u001b[0m\n",
            "Requirement already satisfied: requests-aws4auth in /opt/conda/lib/python3.10/site-packages (1.2.3)\n",
            "Requirement already satisfied: requests in /opt/conda/lib/python3.10/site-packages (from requests-aws4auth) (2.31.0)\n",
            "Requirement already satisfied: six in /opt/conda/lib/python3.10/site-packages (from requests-aws4auth) (1.16.0)\n",
            "Requirement already satisfied: charset-normalizer<4,>=2 in /opt/conda/lib/python3.10/site-packages (from requests->requests-aws4auth) (2.0.4)\n",
            "Requirement already satisfied: idna<4,>=2.5 in /opt/conda/lib/python3.10/site-packages (from requests->requests-aws4auth) (3.3)\n",
            "Requirement already satisfied: urllib3<3,>=1.21.1 in /opt/conda/lib/python3.10/site-packages (from requests->requests-aws4auth) (2.0.6)\n",
            "Requirement already satisfied: certifi>=2017.4.17 in /opt/conda/lib/python3.10/site-packages (from requests->requests-aws4auth) (2023.7.22)\n",
            "\u001b[33mWARNING: Running pip as the 'root' user can result in broken permissions and conflicting behaviour with the system package manager. It is recommended to use a virtual environment instead: https://pip.pypa.io/warnings/venv\u001b[0m\u001b[33m\n",
            "\u001b[0m\n",
            "\u001b[1m[\u001b[0m\u001b[34;49mnotice\u001b[0m\u001b[1;39;49m]\u001b[0m\u001b[39;49m A new release of pip is available: \u001b[0m\u001b[31;49m23.2.1\u001b[0m\u001b[39;49m -> \u001b[0m\u001b[32;49m23.3\u001b[0m\n",
            "\u001b[1m[\u001b[0m\u001b[34;49mnotice\u001b[0m\u001b[1;39;49m]\u001b[0m\u001b[39;49m To update, run: \u001b[0m\u001b[32;49mpip install --upgrade pip\u001b[0m\n",
            "Requirement already satisfied: requests in /opt/conda/lib/python3.10/site-packages (2.31.0)\n",
            "Requirement already satisfied: charset-normalizer<4,>=2 in /opt/conda/lib/python3.10/site-packages (from requests) (2.0.4)\n",
            "Requirement already satisfied: idna<4,>=2.5 in /opt/conda/lib/python3.10/site-packages (from requests) (3.3)\n",
            "Requirement already satisfied: urllib3<3,>=1.21.1 in /opt/conda/lib/python3.10/site-packages (from requests) (2.0.6)\n",
            "Requirement already satisfied: certifi>=2017.4.17 in /opt/conda/lib/python3.10/site-packages (from requests) (2023.7.22)\n",
            "\u001b[33mWARNING: Running pip as the 'root' user can result in broken permissions and conflicting behaviour with the system package manager. It is recommended to use a virtual environment instead: https://pip.pypa.io/warnings/venv\u001b[0m\u001b[33m\n",
            "\u001b[0m\n",
            "\u001b[1m[\u001b[0m\u001b[34;49mnotice\u001b[0m\u001b[1;39;49m]\u001b[0m\u001b[39;49m A new release of pip is available: \u001b[0m\u001b[31;49m23.2.1\u001b[0m\u001b[39;49m -> \u001b[0m\u001b[32;49m23.3\u001b[0m\n",
            "\u001b[1m[\u001b[0m\u001b[34;49mnotice\u001b[0m\u001b[1;39;49m]\u001b[0m\u001b[39;49m To update, run: \u001b[0m\u001b[32;49mpip install --upgrade pip\u001b[0m\n",
            "Requirement already satisfied: opensearch-py in /opt/conda/lib/python3.10/site-packages (2.3.2)\n",
            "Requirement already satisfied: urllib3>=1.26.9 in /opt/conda/lib/python3.10/site-packages (from opensearch-py) (2.0.6)\n",
            "Requirement already satisfied: requests<3.0.0,>=2.4.0 in /opt/conda/lib/python3.10/site-packages (from opensearch-py) (2.31.0)\n",
            "Requirement already satisfied: six in /opt/conda/lib/python3.10/site-packages (from opensearch-py) (1.16.0)\n",
            "Requirement already satisfied: python-dateutil in /opt/conda/lib/python3.10/site-packages (from opensearch-py) (2.8.2)\n",
            "Requirement already satisfied: certifi>=2022.12.07 in /opt/conda/lib/python3.10/site-packages (from opensearch-py) (2023.7.22)\n",
            "Requirement already satisfied: charset-normalizer<4,>=2 in /opt/conda/lib/python3.10/site-packages (from requests<3.0.0,>=2.4.0->opensearch-py) (2.0.4)\n",
            "Requirement already satisfied: idna<4,>=2.5 in /opt/conda/lib/python3.10/site-packages (from requests<3.0.0,>=2.4.0->opensearch-py) (3.3)\n",
            "\u001b[33mWARNING: Running pip as the 'root' user can result in broken permissions and conflicting behaviour with the system package manager. It is recommended to use a virtual environment instead: https://pip.pypa.io/warnings/venv\u001b[0m\u001b[33m\n",
            "\u001b[0m\n",
            "\u001b[1m[\u001b[0m\u001b[34;49mnotice\u001b[0m\u001b[1;39;49m]\u001b[0m\u001b[39;49m A new release of pip is available: \u001b[0m\u001b[31;49m23.2.1\u001b[0m\u001b[39;49m -> \u001b[0m\u001b[32;49m23.3\u001b[0m\n",
            "\u001b[1m[\u001b[0m\u001b[34;49mnotice\u001b[0m\u001b[1;39;49m]\u001b[0m\u001b[39;49m To update, run: \u001b[0m\u001b[32;49mpip install --upgrade pip\u001b[0m\n",
            "Requirement already satisfied: aws-requests-auth in /opt/conda/lib/python3.10/site-packages (0.4.3)\n",
            "Requirement already satisfied: requests>=0.14.0 in /opt/conda/lib/python3.10/site-packages (from aws-requests-auth) (2.31.0)\n",
            "Requirement already satisfied: charset-normalizer<4,>=2 in /opt/conda/lib/python3.10/site-packages (from requests>=0.14.0->aws-requests-auth) (2.0.4)\n",
            "Requirement already satisfied: idna<4,>=2.5 in /opt/conda/lib/python3.10/site-packages (from requests>=0.14.0->aws-requests-auth) (3.3)\n",
            "Requirement already satisfied: urllib3<3,>=1.21.1 in /opt/conda/lib/python3.10/site-packages (from requests>=0.14.0->aws-requests-auth) (2.0.6)\n",
            "Requirement already satisfied: certifi>=2017.4.17 in /opt/conda/lib/python3.10/site-packages (from requests>=0.14.0->aws-requests-auth) (2023.7.22)\n",
            "\u001b[33mWARNING: Running pip as the 'root' user can result in broken permissions and conflicting behaviour with the system package manager. It is recommended to use a virtual environment instead: https://pip.pypa.io/warnings/venv\u001b[0m\u001b[33m\n",
            "\u001b[0m\n",
            "\u001b[1m[\u001b[0m\u001b[34;49mnotice\u001b[0m\u001b[1;39;49m]\u001b[0m\u001b[39;49m A new release of pip is available: \u001b[0m\u001b[31;49m23.2.1\u001b[0m\u001b[39;49m -> \u001b[0m\u001b[32;49m23.3\u001b[0m\n",
            "\u001b[1m[\u001b[0m\u001b[34;49mnotice\u001b[0m\u001b[1;39;49m]\u001b[0m\u001b[39;49m To update, run: \u001b[0m\u001b[32;49mpip install --upgrade pip\u001b[0m\n"
          ]
        }
      ],
      "source": [
        "!pip install --upgrade langchain openai  -q\n",
        "!pip install sentence_transformers -q\n",
        "!pip install unstructured -q\n",
        "!pip install unstructured[local-inference] -q\n",
        "!pip install poppler-utils\n",
        "!pip install tiktoken -q\n",
        "!pip install pypdf\n",
        "!pip install requests-aws4auth\n",
        "!pip install requests --upgrade\n",
        "!pip install opensearch-py\n",
        "!pip install aws-requests-auth"
      ]
    },
    {
      "cell_type": "markdown",
      "id": "915c825a-c390-4a0a-ab6b-2ceefc5ee93e",
      "metadata": {
        "id": "915c825a-c390-4a0a-ab6b-2ceefc5ee93e"
      },
      "source": [
        "# Importing all Libraries"
      ]
    },
    {
      "cell_type": "code",
      "execution_count": null,
      "id": "4b5dbe58-cea7-4a40-a69d-380624183cbf",
      "metadata": {
        "tags": [],
        "id": "4b5dbe58-cea7-4a40-a69d-380624183cbf",
        "outputId": "d4d1475a-d2f9-447a-ebb7-cb3ee2a27906"
      },
      "outputs": [
        {
          "name": "stderr",
          "output_type": "stream",
          "text": [
            "/tmp/ipykernel_364/3577097376.py:6: TqdmExperimentalWarning: Using `tqdm.autonotebook.tqdm` in notebook mode. Use `tqdm.tqdm` instead to force console mode (e.g. in jupyter console)\n",
            "  from tqdm.autonotebook import tqdm\n"
          ]
        }
      ],
      "source": [
        "import langchain\n",
        "from langchain.document_loaders import DirectoryLoader\n",
        "import openai\n",
        "from langchain.embeddings.openai import OpenAIEmbeddings\n",
        "from langchain.text_splitter import RecursiveCharacterTextSplitter\n",
        "from tqdm.autonotebook import tqdm\n",
        "from langchain.chains.question_answering import load_qa_chain\n",
        "from langchain.llms import OpenAI\n",
        "from langchain.document_loaders import PyPDFDirectoryLoader\n",
        "import os\n",
        "from langchain.embeddings.openai import OpenAIEmbeddings\n",
        "from langchain.text_splitter import CharacterTextSplitter\n",
        "from langchain.document_loaders import TextLoader\n",
        "from langchain.llms import OpenAI\n",
        "from langchain.chains.question_answering import load_qa_chain\n",
        "import re\n",
        "import requests\n",
        "import json\n",
        "import pandas as pd\n",
        "import boto3\n",
        "from requests_aws4auth import AWS4Auth\n",
        "from langchain.vectorstores import OpenSearchVectorSearch\n",
        "from opensearchpy import OpenSearch\n",
        "from opensearchpy import OpenSearch, RequestsHttpConnection, AWSV4SignerAuth"
      ]
    },
    {
      "cell_type": "markdown",
      "id": "64a28f4e-9598-483b-a741-6da55ba40a89",
      "metadata": {
        "id": "64a28f4e-9598-483b-a741-6da55ba40a89"
      },
      "source": [
        "# Authentication Keys for performing LLM"
      ]
    },
    {
      "cell_type": "code",
      "execution_count": null,
      "id": "956d722f-9d6f-4e61-8656-b57e9d6fc580",
      "metadata": {
        "tags": [],
        "id": "956d722f-9d6f-4e61-8656-b57e9d6fc580"
      },
      "outputs": [],
      "source": [
        "os.environ[\"OPENAI_API_KEY\"] = \"\"\n",
        "openai.api_key = \"\"\n",
        "os_host = 'search-demo-opensearch-yyeyn2fj4nqty5gxo65ozakwxy.us-west-2.es.amazonaws.com'#'search-demo-opensearch-yyeyn2fj4nqty5gxo65ozakwxy.us-west-2.es.amazonaws.com'\n",
        "os_port = 443\n",
        "os_auth = ('admin_sri', '')\n",
        "os_url = 'search-demo-opensearch-yyeyn2fj4nqty5gxo65ozakwxy.us-west-2.es.amazonaws.com/_dashboards'\n",
        "aws_access_key_id = ''\n",
        "aws_secret_access_key = ''\n",
        "aws_region = 'us-west-2'\n",
        "opensearch_endpoint_url = 'https://search-demo-opensearch-yyeyn2fj4nqty5gxo65ozakwxy.us-west-2.es.amazonaws.com'"
      ]
    },
    {
      "cell_type": "markdown",
      "id": "7098c04c-4107-48e1-9666-a541be408561",
      "metadata": {
        "id": "7098c04c-4107-48e1-9666-a541be408561"
      },
      "source": [
        "# Step 1: Loading pdf documents for training"
      ]
    },
    {
      "cell_type": "code",
      "execution_count": null,
      "id": "9661604a-9a5b-4357-b942-0ac32b339fe4",
      "metadata": {
        "tags": [],
        "collapsed": true,
        "id": "9661604a-9a5b-4357-b942-0ac32b339fe4"
      },
      "outputs": [],
      "source": [
        "loader = PyPDFDirectoryLoader(\"data-set/\")\n",
        "documents = loader.load()\n",
        "documents[0]"
      ]
    },
    {
      "cell_type": "markdown",
      "id": "6bb9ad71-98e7-4828-a0f4-3ee7b9ccc62e",
      "metadata": {
        "id": "6bb9ad71-98e7-4828-a0f4-3ee7b9ccc62e"
      },
      "source": [
        "# Text Splitting in a documents"
      ]
    },
    {
      "cell_type": "code",
      "execution_count": null,
      "id": "25a855f6-82de-4532-8ab9-227c7d311a03",
      "metadata": {
        "tags": [],
        "collapsed": true,
        "id": "25a855f6-82de-4532-8ab9-227c7d311a03"
      },
      "outputs": [],
      "source": [
        "def split_docs(documents,chunk_size=2000,chunk_overlap=200):\n",
        "  text_splitter = RecursiveCharacterTextSplitter(chunk_size=chunk_size, chunk_overlap=chunk_overlap)\n",
        "  docs = text_splitter.split_documents(documents)\n",
        "  return docs\n",
        "\n",
        "docs = split_docs(documents)\n",
        "print(len(docs))\n",
        "docs[0].page_content"
      ]
    },
    {
      "cell_type": "markdown",
      "id": "17245441-c5ab-4b81-8562-87dce643f23f",
      "metadata": {
        "id": "17245441-c5ab-4b81-8562-87dce643f23f"
      },
      "source": [
        "# Embeddings"
      ]
    },
    {
      "cell_type": "code",
      "execution_count": null,
      "id": "59477cd9-47c2-4894-b8eb-c989114e315f",
      "metadata": {
        "tags": [],
        "id": "59477cd9-47c2-4894-b8eb-c989114e315f",
        "outputId": "86229dc1-aebf-44ad-9daa-46f97cfce2b7"
      },
      "outputs": [
        {
          "data": {
            "text/plain": [
              "1536"
            ]
          },
          "execution_count": 15,
          "metadata": {},
          "output_type": "execute_result"
        }
      ],
      "source": [
        "embeddings = OpenAIEmbeddings(model_name=\"ada\")\n",
        "\n",
        "query_result = embeddings.embed_query(\"Hello world\")\n",
        "DERIVED_EMB_SIZE = len(query_result)\n",
        "DERIVED_EMB_SIZE"
      ]
    },
    {
      "cell_type": "markdown",
      "id": "b6b3fdd4-58f9-48ba-933b-b29117ab8336",
      "metadata": {
        "id": "b6b3fdd4-58f9-48ba-933b-b29117ab8336"
      },
      "source": [
        "# Checking the encoding and resolving the encoding"
      ]
    },
    {
      "cell_type": "code",
      "execution_count": null,
      "id": "bfd951d5-8672-4e0b-b217-74eec101eb47",
      "metadata": {
        "tags": [],
        "collapsed": true,
        "id": "bfd951d5-8672-4e0b-b217-74eec101eb47"
      },
      "outputs": [],
      "source": [
        "def clean_text(text):\n",
        "    # Remove newline characters (\"\\n\")\n",
        "    cleaned_text = text.replace(\"\\n\", \" \")\n",
        "\n",
        "    # Remove Unicode escape sequences (\"\\uXXXX\")\n",
        "    cleaned_text = re.sub(r'\\\\u[0-9a-fA-F]+', '', cleaned_text)\n",
        "\n",
        "    return cleaned_text\n",
        "\n",
        "\n",
        "input_data = []\n",
        "for i in range(len(documents)):\n",
        "   input_data.append(clean_text(documents[i].page_content))\n",
        "\n",
        "# Print the cleaned text\n",
        "print(input_data[0])"
      ]
    },
    {
      "cell_type": "markdown",
      "id": "f9108020-95cc-457d-b68b-259decaaa3b6",
      "metadata": {
        "id": "f9108020-95cc-457d-b68b-259decaaa3b6"
      },
      "source": [
        "# Opensearch Operations:\n",
        "## Check the opensearch connectivity"
      ]
    },
    {
      "cell_type": "code",
      "execution_count": null,
      "id": "65cd8ba6-fc74-4d3a-872d-f16007cf6c66",
      "metadata": {
        "tags": [],
        "id": "65cd8ba6-fc74-4d3a-872d-f16007cf6c66",
        "outputId": "fb4fc896-7a33-4402-e6c6-aaedc79f3796"
      },
      "outputs": [
        {
          "data": {
            "text/plain": [
              "{'name': '0b18e22b0bb1b8ccd78b596109d5da5a',\n",
              " 'cluster_name': '054719795948:demo-opensearch',\n",
              " 'cluster_uuid': 'vprlqmRwS2KrsCnXmZBjKg',\n",
              " 'version': {'distribution': 'opensearch',\n",
              "  'number': '2.9.0',\n",
              "  'build_type': 'tar',\n",
              "  'build_hash': 'unknown',\n",
              "  'build_date': '2023-09-18T10:22:23.747603002Z',\n",
              "  'build_snapshot': False,\n",
              "  'lucene_version': '9.7.0',\n",
              "  'minimum_wire_compatibility_version': '7.10.0',\n",
              "  'minimum_index_compatibility_version': '7.0.0'},\n",
              " 'tagline': 'The OpenSearch Project: https://opensearch.org/'}"
            ]
          },
          "execution_count": 12,
          "metadata": {},
          "output_type": "execute_result"
        }
      ],
      "source": [
        "os_client = OpenSearch(\n",
        "    hosts = [{'host':os_host, 'port':443}],\n",
        "    http_auth = os_auth,\n",
        "    use_ssl = True,\n",
        "    verify_certs = True,\n",
        "    connection_class = RequestsHttpConnection,\n",
        "    pool_maxsize = 30\n",
        ")\n",
        "os_client.info()"
      ]
    },
    {
      "cell_type": "markdown",
      "id": "c5f24dcf-d7a0-4630-a9f3-59743f69eae1",
      "metadata": {
        "id": "c5f24dcf-d7a0-4630-a9f3-59743f69eae1"
      },
      "source": [
        "## Delete if already index exists"
      ]
    },
    {
      "cell_type": "code",
      "execution_count": null,
      "id": "10f97e44-7718-4bf7-822f-f85c3f4254f1",
      "metadata": {
        "tags": [],
        "id": "10f97e44-7718-4bf7-822f-f85c3f4254f1"
      },
      "outputs": [],
      "source": [
        "if(False):\n",
        "    index_name = 'vs-opensearch'\n",
        "    response = os_client.indices.delete(index_name)\n",
        "    response\n",
        "#os_client.indices.delete('vs-opensearch')"
      ]
    },
    {
      "cell_type": "markdown",
      "id": "94bd6f5a-a782-4e56-a738-69ca67571d8d",
      "metadata": {
        "id": "94bd6f5a-a782-4e56-a738-69ca67571d8d"
      },
      "source": [
        "## Creating index in opensearch"
      ]
    },
    {
      "cell_type": "code",
      "execution_count": null,
      "id": "f3011dba-4779-42d4-893a-238e032e4511",
      "metadata": {
        "tags": [],
        "id": "f3011dba-4779-42d4-893a-238e032e4511",
        "outputId": "437bc795-bbb2-4f61-f579-ff06feffbf74"
      },
      "outputs": [
        {
          "data": {
            "text/plain": [
              "{'acknowledged': True, 'shards_acknowledged': True, 'index': 'vs-opensearch'}"
            ]
          },
          "execution_count": 16,
          "metadata": {},
          "output_type": "execute_result"
        }
      ],
      "source": [
        "index_name = \"vs-opensearch\"\n",
        "index_body = {\n",
        "    \"settings\": {\n",
        "        \"index\": {\n",
        "            \"number_of_shards\": 5,\n",
        "\n",
        "            \"knn\": True,\n",
        "            \"knn.algo_param.ef_search\": 512\n",
        "        },\n",
        "    },\n",
        "    \"mappings\": {\n",
        "        \"dynamic_templates\": [\n",
        "            {\n",
        "                # map all metadata properties to be keyword\n",
        "                \"metadata.*\": {\n",
        "                    \"match_mapping_type\": \"*\",\n",
        "                    \"mapping\": { \"type\": \"keyword\" },\n",
        "                },\n",
        "            },\n",
        "        ],\n",
        "        \"properties\": {\n",
        "            \"text\": { \"type\": \"text\" },\n",
        "            \"metadata\": { \"type\": \"object\" },\n",
        "            \"vector_field\": { \"type\": \"knn_vector\", \"dimension\": DERIVED_EMB_SIZE },\n",
        "            \"embedding\": {\n",
        "                \"type\": \"knn_vector\",\n",
        "                \"dimension\": DERIVED_EMB_SIZE,\n",
        "                \"method\": {\n",
        "                    \"name\": \"hnsw\",\n",
        "                    \"engine\": \"nmslib\",\n",
        "                    \"space_type\": \"l2\",\n",
        "                    \"parameters\": { \"ef_construction\": 512, \"m\": 16 }\n",
        "                }\n",
        "            }\n",
        "        }\n",
        "    }\n",
        "}\n",
        "\n",
        "\n",
        "response = os_client.indices.create(index_name, body=index_body)\n",
        "response"
      ]
    },
    {
      "cell_type": "markdown",
      "id": "72ef6016-6334-4193-b1a9-330fe8fa6762",
      "metadata": {
        "id": "72ef6016-6334-4193-b1a9-330fe8fa6762"
      },
      "source": [
        "## Searching from OpenSearch Documents"
      ]
    },
    {
      "cell_type": "code",
      "execution_count": null,
      "id": "28be00bf-04bd-4c23-9efa-59f027c435b1",
      "metadata": {
        "tags": [],
        "id": "28be00bf-04bd-4c23-9efa-59f027c435b1"
      },
      "outputs": [],
      "source": [
        "service = 'es' # must set the service as 'es'\n",
        "region = 'us-west-2'\n",
        "credentials = boto3.Session(aws_access_key_id=aws_access_key_id,aws_secret_access_key=aws_secret_access_key).get_credentials()\n",
        "#awsauth = AWS4Auth(credentials.access_key, credentials.secret_key, region, service, session_token=credentials.token)\n",
        "awsauth = AWS4Auth('admin_sri', '', region,service, session_token=credentials.token)\n",
        "\n",
        "docsearch = OpenSearchVectorSearch.from_documents(\n",
        "    docs,\n",
        "    embeddings,\n",
        "    opensearch_url=[{'host':os_host, 'port':443}],\n",
        "    http_auth=os_auth, #awsauth,\n",
        "    timeout = 300,\n",
        "    use_ssl = True,\n",
        "    verify_certs = True,\n",
        "    connection_class = RequestsHttpConnection,\n",
        "    index_name=\"vs-opensearch\",\n",
        ")"
      ]
    },
    {
      "cell_type": "code",
      "execution_count": null,
      "id": "208d3bb3-b564-4d57-844c-ea5e1ebdf257",
      "metadata": {
        "tags": [],
        "id": "208d3bb3-b564-4d57-844c-ea5e1ebdf257",
        "outputId": "af3d2be0-c666-45de-a0fe-4159140df31c"
      },
      "outputs": [
        {
          "data": {
            "text/plain": [
              "<langchain.vectorstores.opensearch_vector_search.OpenSearchVectorSearch at 0x7f8880a98c10>"
            ]
          },
          "execution_count": 18,
          "metadata": {},
          "output_type": "execute_result"
        }
      ],
      "source": [
        "docsearch"
      ]
    },
    {
      "cell_type": "markdown",
      "id": "3f65ca1d-dba4-4fbb-b4ce-8a02a446a619",
      "metadata": {
        "id": "3f65ca1d-dba4-4fbb-b4ce-8a02a446a619"
      },
      "source": [
        "# Training the LLM Model"
      ]
    },
    {
      "cell_type": "code",
      "execution_count": null,
      "id": "2da81c89-9f8d-4906-8d19-6d12896f894e",
      "metadata": {
        "tags": [],
        "id": "2da81c89-9f8d-4906-8d19-6d12896f894e",
        "outputId": "3bee297a-6c2c-46ba-a8e7-a64fac2d13e1"
      },
      "outputs": [
        {
          "name": "stderr",
          "output_type": "stream",
          "text": [
            "/opt/conda/lib/python3.10/site-packages/langchain/llms/openai.py:216: UserWarning: You are trying to use a chat model. This way of initializing it is no longer supported. Instead, please use: `from langchain.chat_models import ChatOpenAI`\n",
            "  warnings.warn(\n",
            "/opt/conda/lib/python3.10/site-packages/langchain/llms/openai.py:811: UserWarning: You are trying to use a chat model. This way of initializing it is no longer supported. Instead, please use: `from langchain.chat_models import ChatOpenAI`\n",
            "  warnings.warn(\n"
          ]
        }
      ],
      "source": [
        "model_name = \"gpt-3.5-turbo\"\n",
        "llm = OpenAI(model_name=model_name)\n",
        "\n",
        "from langchain.chains.question_answering import load_qa_chain\n",
        "chain = load_qa_chain(llm, chain_type=\"stuff\")"
      ]
    },
    {
      "cell_type": "markdown",
      "id": "284dadf4-5e35-4880-97d2-7f559bed0935",
      "metadata": {
        "id": "284dadf4-5e35-4880-97d2-7f559bed0935"
      },
      "source": [
        "### Getting answer for the query"
      ]
    },
    {
      "cell_type": "code",
      "execution_count": null,
      "id": "3c8c9206-ef9e-4798-bd88-552585f161c2",
      "metadata": {
        "tags": [],
        "id": "3c8c9206-ef9e-4798-bd88-552585f161c2"
      },
      "outputs": [],
      "source": [
        "def get_answer(query):\n",
        "  similar_docs = docsearch.similarity_search(query,k=2)#get_similiar_docs(query)\n",
        "  #print(similar_docs)\n",
        "  answer =  chain.run(input_documents=similar_docs, question=query)\n",
        "  return  answer"
      ]
    },
    {
      "cell_type": "code",
      "execution_count": null,
      "id": "5e59df10-e2ec-4117-82c8-1731684f3ca9",
      "metadata": {
        "tags": [],
        "collapsed": true,
        "id": "5e59df10-e2ec-4117-82c8-1731684f3ca9"
      },
      "outputs": [],
      "source": [
        "query = \"what are all the sections in document?\"\n",
        "get_answer(query)"
      ]
    },
    {
      "cell_type": "code",
      "execution_count": null,
      "id": "9c075d8c-94a8-40ca-bacc-f187fda455a2",
      "metadata": {
        "tags": [],
        "collapsed": true,
        "id": "9c075d8c-94a8-40ca-bacc-f187fda455a2"
      },
      "outputs": [],
      "source": [
        "query = \"what are the sections in Block 28-22 docuemnt?\"\n",
        "get_answer(query)"
      ]
    },
    {
      "cell_type": "code",
      "execution_count": null,
      "id": "9d4a78a3-b77c-47df-9834-b190ba8b3b31",
      "metadata": {
        "id": "9d4a78a3-b77c-47df-9834-b190ba8b3b31"
      },
      "outputs": [],
      "source": []
    }
  ],
  "metadata": {
    "availableInstances": [
      {
        "_defaultOrder": 0,
        "_isFastLaunch": true,
        "category": "General purpose",
        "gpuNum": 0,
        "hideHardwareSpecs": false,
        "memoryGiB": 4,
        "name": "ml.t3.medium",
        "vcpuNum": 2
      },
      {
        "_defaultOrder": 1,
        "_isFastLaunch": false,
        "category": "General purpose",
        "gpuNum": 0,
        "hideHardwareSpecs": false,
        "memoryGiB": 8,
        "name": "ml.t3.large",
        "vcpuNum": 2
      },
      {
        "_defaultOrder": 2,
        "_isFastLaunch": false,
        "category": "General purpose",
        "gpuNum": 0,
        "hideHardwareSpecs": false,
        "memoryGiB": 16,
        "name": "ml.t3.xlarge",
        "vcpuNum": 4
      },
      {
        "_defaultOrder": 3,
        "_isFastLaunch": false,
        "category": "General purpose",
        "gpuNum": 0,
        "hideHardwareSpecs": false,
        "memoryGiB": 32,
        "name": "ml.t3.2xlarge",
        "vcpuNum": 8
      },
      {
        "_defaultOrder": 4,
        "_isFastLaunch": true,
        "category": "General purpose",
        "gpuNum": 0,
        "hideHardwareSpecs": false,
        "memoryGiB": 8,
        "name": "ml.m5.large",
        "vcpuNum": 2
      },
      {
        "_defaultOrder": 5,
        "_isFastLaunch": false,
        "category": "General purpose",
        "gpuNum": 0,
        "hideHardwareSpecs": false,
        "memoryGiB": 16,
        "name": "ml.m5.xlarge",
        "vcpuNum": 4
      },
      {
        "_defaultOrder": 6,
        "_isFastLaunch": false,
        "category": "General purpose",
        "gpuNum": 0,
        "hideHardwareSpecs": false,
        "memoryGiB": 32,
        "name": "ml.m5.2xlarge",
        "vcpuNum": 8
      },
      {
        "_defaultOrder": 7,
        "_isFastLaunch": false,
        "category": "General purpose",
        "gpuNum": 0,
        "hideHardwareSpecs": false,
        "memoryGiB": 64,
        "name": "ml.m5.4xlarge",
        "vcpuNum": 16
      },
      {
        "_defaultOrder": 8,
        "_isFastLaunch": false,
        "category": "General purpose",
        "gpuNum": 0,
        "hideHardwareSpecs": false,
        "memoryGiB": 128,
        "name": "ml.m5.8xlarge",
        "vcpuNum": 32
      },
      {
        "_defaultOrder": 9,
        "_isFastLaunch": false,
        "category": "General purpose",
        "gpuNum": 0,
        "hideHardwareSpecs": false,
        "memoryGiB": 192,
        "name": "ml.m5.12xlarge",
        "vcpuNum": 48
      },
      {
        "_defaultOrder": 10,
        "_isFastLaunch": false,
        "category": "General purpose",
        "gpuNum": 0,
        "hideHardwareSpecs": false,
        "memoryGiB": 256,
        "name": "ml.m5.16xlarge",
        "vcpuNum": 64
      },
      {
        "_defaultOrder": 11,
        "_isFastLaunch": false,
        "category": "General purpose",
        "gpuNum": 0,
        "hideHardwareSpecs": false,
        "memoryGiB": 384,
        "name": "ml.m5.24xlarge",
        "vcpuNum": 96
      },
      {
        "_defaultOrder": 12,
        "_isFastLaunch": false,
        "category": "General purpose",
        "gpuNum": 0,
        "hideHardwareSpecs": false,
        "memoryGiB": 8,
        "name": "ml.m5d.large",
        "vcpuNum": 2
      },
      {
        "_defaultOrder": 13,
        "_isFastLaunch": false,
        "category": "General purpose",
        "gpuNum": 0,
        "hideHardwareSpecs": false,
        "memoryGiB": 16,
        "name": "ml.m5d.xlarge",
        "vcpuNum": 4
      },
      {
        "_defaultOrder": 14,
        "_isFastLaunch": false,
        "category": "General purpose",
        "gpuNum": 0,
        "hideHardwareSpecs": false,
        "memoryGiB": 32,
        "name": "ml.m5d.2xlarge",
        "vcpuNum": 8
      },
      {
        "_defaultOrder": 15,
        "_isFastLaunch": false,
        "category": "General purpose",
        "gpuNum": 0,
        "hideHardwareSpecs": false,
        "memoryGiB": 64,
        "name": "ml.m5d.4xlarge",
        "vcpuNum": 16
      },
      {
        "_defaultOrder": 16,
        "_isFastLaunch": false,
        "category": "General purpose",
        "gpuNum": 0,
        "hideHardwareSpecs": false,
        "memoryGiB": 128,
        "name": "ml.m5d.8xlarge",
        "vcpuNum": 32
      },
      {
        "_defaultOrder": 17,
        "_isFastLaunch": false,
        "category": "General purpose",
        "gpuNum": 0,
        "hideHardwareSpecs": false,
        "memoryGiB": 192,
        "name": "ml.m5d.12xlarge",
        "vcpuNum": 48
      },
      {
        "_defaultOrder": 18,
        "_isFastLaunch": false,
        "category": "General purpose",
        "gpuNum": 0,
        "hideHardwareSpecs": false,
        "memoryGiB": 256,
        "name": "ml.m5d.16xlarge",
        "vcpuNum": 64
      },
      {
        "_defaultOrder": 19,
        "_isFastLaunch": false,
        "category": "General purpose",
        "gpuNum": 0,
        "hideHardwareSpecs": false,
        "memoryGiB": 384,
        "name": "ml.m5d.24xlarge",
        "vcpuNum": 96
      },
      {
        "_defaultOrder": 20,
        "_isFastLaunch": false,
        "category": "General purpose",
        "gpuNum": 0,
        "hideHardwareSpecs": true,
        "memoryGiB": 0,
        "name": "ml.geospatial.interactive",
        "supportedImageNames": [
          "sagemaker-geospatial-v1-0"
        ],
        "vcpuNum": 0
      },
      {
        "_defaultOrder": 21,
        "_isFastLaunch": true,
        "category": "Compute optimized",
        "gpuNum": 0,
        "hideHardwareSpecs": false,
        "memoryGiB": 4,
        "name": "ml.c5.large",
        "vcpuNum": 2
      },
      {
        "_defaultOrder": 22,
        "_isFastLaunch": false,
        "category": "Compute optimized",
        "gpuNum": 0,
        "hideHardwareSpecs": false,
        "memoryGiB": 8,
        "name": "ml.c5.xlarge",
        "vcpuNum": 4
      },
      {
        "_defaultOrder": 23,
        "_isFastLaunch": false,
        "category": "Compute optimized",
        "gpuNum": 0,
        "hideHardwareSpecs": false,
        "memoryGiB": 16,
        "name": "ml.c5.2xlarge",
        "vcpuNum": 8
      },
      {
        "_defaultOrder": 24,
        "_isFastLaunch": false,
        "category": "Compute optimized",
        "gpuNum": 0,
        "hideHardwareSpecs": false,
        "memoryGiB": 32,
        "name": "ml.c5.4xlarge",
        "vcpuNum": 16
      },
      {
        "_defaultOrder": 25,
        "_isFastLaunch": false,
        "category": "Compute optimized",
        "gpuNum": 0,
        "hideHardwareSpecs": false,
        "memoryGiB": 72,
        "name": "ml.c5.9xlarge",
        "vcpuNum": 36
      },
      {
        "_defaultOrder": 26,
        "_isFastLaunch": false,
        "category": "Compute optimized",
        "gpuNum": 0,
        "hideHardwareSpecs": false,
        "memoryGiB": 96,
        "name": "ml.c5.12xlarge",
        "vcpuNum": 48
      },
      {
        "_defaultOrder": 27,
        "_isFastLaunch": false,
        "category": "Compute optimized",
        "gpuNum": 0,
        "hideHardwareSpecs": false,
        "memoryGiB": 144,
        "name": "ml.c5.18xlarge",
        "vcpuNum": 72
      },
      {
        "_defaultOrder": 28,
        "_isFastLaunch": false,
        "category": "Compute optimized",
        "gpuNum": 0,
        "hideHardwareSpecs": false,
        "memoryGiB": 192,
        "name": "ml.c5.24xlarge",
        "vcpuNum": 96
      },
      {
        "_defaultOrder": 29,
        "_isFastLaunch": true,
        "category": "Accelerated computing",
        "gpuNum": 1,
        "hideHardwareSpecs": false,
        "memoryGiB": 16,
        "name": "ml.g4dn.xlarge",
        "vcpuNum": 4
      },
      {
        "_defaultOrder": 30,
        "_isFastLaunch": false,
        "category": "Accelerated computing",
        "gpuNum": 1,
        "hideHardwareSpecs": false,
        "memoryGiB": 32,
        "name": "ml.g4dn.2xlarge",
        "vcpuNum": 8
      },
      {
        "_defaultOrder": 31,
        "_isFastLaunch": false,
        "category": "Accelerated computing",
        "gpuNum": 1,
        "hideHardwareSpecs": false,
        "memoryGiB": 64,
        "name": "ml.g4dn.4xlarge",
        "vcpuNum": 16
      },
      {
        "_defaultOrder": 32,
        "_isFastLaunch": false,
        "category": "Accelerated computing",
        "gpuNum": 1,
        "hideHardwareSpecs": false,
        "memoryGiB": 128,
        "name": "ml.g4dn.8xlarge",
        "vcpuNum": 32
      },
      {
        "_defaultOrder": 33,
        "_isFastLaunch": false,
        "category": "Accelerated computing",
        "gpuNum": 4,
        "hideHardwareSpecs": false,
        "memoryGiB": 192,
        "name": "ml.g4dn.12xlarge",
        "vcpuNum": 48
      },
      {
        "_defaultOrder": 34,
        "_isFastLaunch": false,
        "category": "Accelerated computing",
        "gpuNum": 1,
        "hideHardwareSpecs": false,
        "memoryGiB": 256,
        "name": "ml.g4dn.16xlarge",
        "vcpuNum": 64
      },
      {
        "_defaultOrder": 35,
        "_isFastLaunch": false,
        "category": "Accelerated computing",
        "gpuNum": 1,
        "hideHardwareSpecs": false,
        "memoryGiB": 61,
        "name": "ml.p3.2xlarge",
        "vcpuNum": 8
      },
      {
        "_defaultOrder": 36,
        "_isFastLaunch": false,
        "category": "Accelerated computing",
        "gpuNum": 4,
        "hideHardwareSpecs": false,
        "memoryGiB": 244,
        "name": "ml.p3.8xlarge",
        "vcpuNum": 32
      },
      {
        "_defaultOrder": 37,
        "_isFastLaunch": false,
        "category": "Accelerated computing",
        "gpuNum": 8,
        "hideHardwareSpecs": false,
        "memoryGiB": 488,
        "name": "ml.p3.16xlarge",
        "vcpuNum": 64
      },
      {
        "_defaultOrder": 38,
        "_isFastLaunch": false,
        "category": "Accelerated computing",
        "gpuNum": 8,
        "hideHardwareSpecs": false,
        "memoryGiB": 768,
        "name": "ml.p3dn.24xlarge",
        "vcpuNum": 96
      },
      {
        "_defaultOrder": 39,
        "_isFastLaunch": false,
        "category": "Memory Optimized",
        "gpuNum": 0,
        "hideHardwareSpecs": false,
        "memoryGiB": 16,
        "name": "ml.r5.large",
        "vcpuNum": 2
      },
      {
        "_defaultOrder": 40,
        "_isFastLaunch": false,
        "category": "Memory Optimized",
        "gpuNum": 0,
        "hideHardwareSpecs": false,
        "memoryGiB": 32,
        "name": "ml.r5.xlarge",
        "vcpuNum": 4
      },
      {
        "_defaultOrder": 41,
        "_isFastLaunch": false,
        "category": "Memory Optimized",
        "gpuNum": 0,
        "hideHardwareSpecs": false,
        "memoryGiB": 64,
        "name": "ml.r5.2xlarge",
        "vcpuNum": 8
      },
      {
        "_defaultOrder": 42,
        "_isFastLaunch": false,
        "category": "Memory Optimized",
        "gpuNum": 0,
        "hideHardwareSpecs": false,
        "memoryGiB": 128,
        "name": "ml.r5.4xlarge",
        "vcpuNum": 16
      },
      {
        "_defaultOrder": 43,
        "_isFastLaunch": false,
        "category": "Memory Optimized",
        "gpuNum": 0,
        "hideHardwareSpecs": false,
        "memoryGiB": 256,
        "name": "ml.r5.8xlarge",
        "vcpuNum": 32
      },
      {
        "_defaultOrder": 44,
        "_isFastLaunch": false,
        "category": "Memory Optimized",
        "gpuNum": 0,
        "hideHardwareSpecs": false,
        "memoryGiB": 384,
        "name": "ml.r5.12xlarge",
        "vcpuNum": 48
      },
      {
        "_defaultOrder": 45,
        "_isFastLaunch": false,
        "category": "Memory Optimized",
        "gpuNum": 0,
        "hideHardwareSpecs": false,
        "memoryGiB": 512,
        "name": "ml.r5.16xlarge",
        "vcpuNum": 64
      },
      {
        "_defaultOrder": 46,
        "_isFastLaunch": false,
        "category": "Memory Optimized",
        "gpuNum": 0,
        "hideHardwareSpecs": false,
        "memoryGiB": 768,
        "name": "ml.r5.24xlarge",
        "vcpuNum": 96
      },
      {
        "_defaultOrder": 47,
        "_isFastLaunch": false,
        "category": "Accelerated computing",
        "gpuNum": 1,
        "hideHardwareSpecs": false,
        "memoryGiB": 16,
        "name": "ml.g5.xlarge",
        "vcpuNum": 4
      },
      {
        "_defaultOrder": 48,
        "_isFastLaunch": false,
        "category": "Accelerated computing",
        "gpuNum": 1,
        "hideHardwareSpecs": false,
        "memoryGiB": 32,
        "name": "ml.g5.2xlarge",
        "vcpuNum": 8
      },
      {
        "_defaultOrder": 49,
        "_isFastLaunch": false,
        "category": "Accelerated computing",
        "gpuNum": 1,
        "hideHardwareSpecs": false,
        "memoryGiB": 64,
        "name": "ml.g5.4xlarge",
        "vcpuNum": 16
      },
      {
        "_defaultOrder": 50,
        "_isFastLaunch": false,
        "category": "Accelerated computing",
        "gpuNum": 1,
        "hideHardwareSpecs": false,
        "memoryGiB": 128,
        "name": "ml.g5.8xlarge",
        "vcpuNum": 32
      },
      {
        "_defaultOrder": 51,
        "_isFastLaunch": false,
        "category": "Accelerated computing",
        "gpuNum": 1,
        "hideHardwareSpecs": false,
        "memoryGiB": 256,
        "name": "ml.g5.16xlarge",
        "vcpuNum": 64
      },
      {
        "_defaultOrder": 52,
        "_isFastLaunch": false,
        "category": "Accelerated computing",
        "gpuNum": 4,
        "hideHardwareSpecs": false,
        "memoryGiB": 192,
        "name": "ml.g5.12xlarge",
        "vcpuNum": 48
      },
      {
        "_defaultOrder": 53,
        "_isFastLaunch": false,
        "category": "Accelerated computing",
        "gpuNum": 4,
        "hideHardwareSpecs": false,
        "memoryGiB": 384,
        "name": "ml.g5.24xlarge",
        "vcpuNum": 96
      },
      {
        "_defaultOrder": 54,
        "_isFastLaunch": false,
        "category": "Accelerated computing",
        "gpuNum": 8,
        "hideHardwareSpecs": false,
        "memoryGiB": 768,
        "name": "ml.g5.48xlarge",
        "vcpuNum": 192
      },
      {
        "_defaultOrder": 55,
        "_isFastLaunch": false,
        "category": "Accelerated computing",
        "gpuNum": 8,
        "hideHardwareSpecs": false,
        "memoryGiB": 1152,
        "name": "ml.p4d.24xlarge",
        "vcpuNum": 96
      },
      {
        "_defaultOrder": 56,
        "_isFastLaunch": false,
        "category": "Accelerated computing",
        "gpuNum": 8,
        "hideHardwareSpecs": false,
        "memoryGiB": 1152,
        "name": "ml.p4de.24xlarge",
        "vcpuNum": 96
      }
    ],
    "instance_type": "ml.t3.medium",
    "kernelspec": {
      "display_name": "Python 3 (Data Science 3.0)",
      "language": "python",
      "name": "python3__SAGEMAKER_INTERNAL__arn:aws:sagemaker:us-west-2:236514542706:image/sagemaker-data-science-310-v1"
    },
    "language_info": {
      "codemirror_mode": {
        "name": "ipython",
        "version": 3
      },
      "file_extension": ".py",
      "mimetype": "text/x-python",
      "name": "python",
      "nbconvert_exporter": "python",
      "pygments_lexer": "ipython3",
      "version": "3.10.6"
    },
    "colab": {
      "provenance": [],
      "include_colab_link": true
    }
  },
  "nbformat": 4,
  "nbformat_minor": 5
}